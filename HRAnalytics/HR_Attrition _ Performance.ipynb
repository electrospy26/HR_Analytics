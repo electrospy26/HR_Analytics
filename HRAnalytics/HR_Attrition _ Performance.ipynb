{
 "cells": [
  {
   "cell_type": "code",
   "execution_count": 2,
   "id": "f34cc47b",
   "metadata": {},
   "outputs": [],
   "source": [
    "import numpy as np\n",
    "import pandas as pd\n",
    "import warnings \n",
    "warnings.filterwarnings('ignore')\n",
    "\n"
   ]
  },
  {
   "cell_type": "code",
   "execution_count": 3,
   "id": "5d817981",
   "metadata": {},
   "outputs": [],
   "source": [
    "import seaborn as sns\n",
    "import matplotlib.pyplot as mplt"
   ]
  },
  {
   "cell_type": "markdown",
   "id": "27d44569",
   "metadata": {},
   "source": [
    "## Problem Statement"
   ]
  },
  {
   "cell_type": "markdown",
   "id": "4724b093",
   "metadata": {},
   "source": [
    "We are try to analyse employee data and try to find possible reason for there attrition"
   ]
  },
  {
   "cell_type": "markdown",
   "id": "22f0c056",
   "metadata": {},
   "source": [
    "Attrition : Wether employee leaves the organisation or not."
   ]
  },
  {
   "cell_type": "markdown",
   "id": "1cd2d0fb",
   "metadata": {},
   "source": [
    "## Data Gathering"
   ]
  },
  {
   "cell_type": "code",
   "execution_count": 4,
   "id": "ec2fd5d2",
   "metadata": {},
   "outputs": [],
   "source": [
    "df=pd.read_csv('HR_data.csv')"
   ]
  },
  {
   "cell_type": "code",
   "execution_count": 23,
   "id": "7a485d17",
   "metadata": {},
   "outputs": [],
   "source": [
    "dfy = df[df.Attrition == 'Yes']"
   ]
  },
  {
   "cell_type": "code",
   "execution_count": 25,
   "id": "c8187a1d",
   "metadata": {},
   "outputs": [
    {
     "data": {
      "text/plain": [
       "237"
      ]
     },
     "execution_count": 25,
     "metadata": {},
     "output_type": "execute_result"
    }
   ],
   "source": [
    "len(dfy)"
   ]
  },
  {
   "cell_type": "code",
   "execution_count": null,
   "id": "76bc2714",
   "metadata": {},
   "outputs": [],
   "source": [
    "df.head()"
   ]
  },
  {
   "cell_type": "code",
   "execution_count": null,
   "id": "c8ed36e7",
   "metadata": {},
   "outputs": [],
   "source": [
    "df.info()"
   ]
  },
  {
   "cell_type": "code",
   "execution_count": null,
   "id": "4f1fab1b",
   "metadata": {},
   "outputs": [],
   "source": [
    "df.shape"
   ]
  },
  {
   "cell_type": "code",
   "execution_count": null,
   "id": "96ab2f84",
   "metadata": {},
   "outputs": [],
   "source": [
    "df.describe()"
   ]
  },
  {
   "cell_type": "code",
   "execution_count": 30,
   "id": "80f22035",
   "metadata": {},
   "outputs": [
    {
     "data": {
      "text/plain": [
       "Index(['Age', 'Attrition', 'BusinessTravel', 'DailyRate', 'Department',\n",
       "       'DistanceFromHome', 'Education', 'EducationField', 'EmployeeCount',\n",
       "       'EmployeeNumber', 'EnvironmentSatisfaction', 'Gender', 'HourlyRate',\n",
       "       'JobInvolvement', 'JobLevel', 'JobRole', 'JobSatisfaction',\n",
       "       'MaritalStatus', 'MonthlyIncome', 'MonthlyRate', 'NumCompaniesWorked',\n",
       "       'Over18', 'OverTime', 'PercentSalaryHike', 'PerformanceRating',\n",
       "       'RelationshipSatisfaction', 'StandardHours', 'StockOptionLevel',\n",
       "       'TotalWorkingYears', 'TrainingTimesLastYear', 'WorkLifeBalance',\n",
       "       'YearsAtCompany', 'YearsInCurrentRole', 'YearsSinceLastPromotion',\n",
       "       'YearsWithCurrManager'],\n",
       "      dtype='object')"
      ]
     },
     "execution_count": 30,
     "metadata": {},
     "output_type": "execute_result"
    }
   ],
   "source": [
    "dfy.columns"
   ]
  },
  {
   "cell_type": "markdown",
   "id": "b8106c83",
   "metadata": {},
   "source": [
    "## EDA"
   ]
  },
  {
   "cell_type": "markdown",
   "id": "4b23bb2f",
   "metadata": {},
   "source": [
    "### 1.Age"
   ]
  },
  {
   "cell_type": "code",
   "execution_count": 54,
   "id": "e379f764",
   "metadata": {},
   "outputs": [
    {
     "data": {
      "text/plain": [
       "False    1470\n",
       "Name: Age, dtype: int64"
      ]
     },
     "execution_count": 54,
     "metadata": {},
     "output_type": "execute_result"
    }
   ],
   "source": [
    "df['Age'].isna().value_counts()"
   ]
  },
  {
   "cell_type": "code",
   "execution_count": 55,
   "id": "f9c9fa52",
   "metadata": {
    "scrolled": true
   },
   "outputs": [
    {
     "name": "stdout",
     "output_type": "stream",
     "text": [
      "18\n",
      "60\n"
     ]
    }
   ],
   "source": [
    "print(min(df['Age']))\n",
    "print(max(df['Age']))"
   ]
  },
  {
   "cell_type": "code",
   "execution_count": null,
   "id": "c72ca5b7",
   "metadata": {
    "scrolled": false
   },
   "outputs": [],
   "source": [
    "sns.boxplot(df['Age'])"
   ]
  },
  {
   "cell_type": "code",
   "execution_count": null,
   "id": "1e8f9353",
   "metadata": {},
   "outputs": [],
   "source": [
    "mplt.figure(figsize=(10,6))\n",
    "sns.countplot(x='Age',data=df,hue='Attrition')"
   ]
  },
  {
   "cell_type": "code",
   "execution_count": null,
   "id": "eda79212",
   "metadata": {},
   "outputs": [],
   "source": [
    "sns.kdeplot(data=df,x=df.Age,hue='Attrition')"
   ]
  },
  {
   "cell_type": "code",
   "execution_count": 39,
   "id": "ad015b81",
   "metadata": {
    "scrolled": true
   },
   "outputs": [
    {
     "data": {
      "text/plain": [
       "<AxesSubplot: xlabel='Age', ylabel='count'>"
      ]
     },
     "execution_count": 39,
     "metadata": {},
     "output_type": "execute_result"
    },
    {
     "data": {
      "image/png": "[encoded data removed]",
      "text/plain": [
       "<Figure size 640x480 with 1 Axes>"
      ]
     },
     "metadata": {},
     "output_type": "display_data"
    }
   ],
   "source": [
    "sns.countplot(x = dfy.Age)"
   ]
  },
  {
   "cell_type": "code",
   "execution_count": 36,
   "id": "9cdf0fa7",
   "metadata": {
    "scrolled": true
   },
   "outputs": [
    {
     "data": {
      "text/plain": [
       "<AxesSubplot: xlabel='Age', ylabel='Density'>"
      ]
     },
     "execution_count": 36,
     "metadata": {},
     "output_type": "execute_result"
    },
    {
     "data": {
      "image/png": "[encoded data removed]",
      "text/plain": [
       "<Figure size 640x480 with 1 Axes>"
      ]
     },
     "metadata": {},
     "output_type": "display_data"
    }
   ],
   "source": [
    "sns.kdeplot(dfy.Age)"
   ]
  },
  {
   "cell_type": "code",
   "execution_count": null,
   "id": "b0ba2b10",
   "metadata": {},
   "outputs": [],
   "source": [
    "sns.lineplot(x = )"
   ]
  },
  {
   "cell_type": "code",
   "execution_count": 35,
   "id": "966f25e7",
   "metadata": {
    "scrolled": true
   },
   "outputs": [
    {
     "data": {
      "text/plain": [
       "<AxesSubplot: xlabel='MaritalStatus', ylabel='Age'>"
      ]
     },
     "execution_count": 35,
     "metadata": {},
     "output_type": "execute_result"
    },
    {
     "data": {
      "image/png": "[encoded data removed]",
      "text/plain": [
       "<Figure size 640x480 with 1 Axes>"
      ]
     },
     "metadata": {},
     "output_type": "display_data"
    }
   ],
   "source": [
    "sns.scatterplot(y = dfy['Age'], x = dfy['MaritalStatus'])"
   ]
  },
  {
   "cell_type": "markdown",
   "id": "322f7991",
   "metadata": {},
   "source": [
    "### 2.Attrition"
   ]
  },
  {
   "cell_type": "code",
   "execution_count": 53,
   "id": "8c77590b",
   "metadata": {},
   "outputs": [
    {
     "data": {
      "text/plain": [
       "No     1233\n",
       "Yes     237\n",
       "Name: Attrition, dtype: int64"
      ]
     },
     "execution_count": 53,
     "metadata": {},
     "output_type": "execute_result"
    }
   ],
   "source": [
    "df['Attrition'].value_counts()"
   ]
  },
  {
   "cell_type": "code",
   "execution_count": null,
   "id": "54aced70",
   "metadata": {},
   "outputs": [],
   "source": [
    "sns.countplot(x='Attrition',data=df)"
   ]
  },
  {
   "cell_type": "markdown",
   "id": "2032ac48",
   "metadata": {},
   "source": [
    "### 3.BusinessTravel"
   ]
  },
  {
   "cell_type": "code",
   "execution_count": 52,
   "id": "7da06601",
   "metadata": {
    "scrolled": false
   },
   "outputs": [
    {
     "data": {
      "text/plain": [
       "Travel_Rarely        1043\n",
       "Travel_Frequently     277\n",
       "Non-Travel            150\n",
       "Name: BusinessTravel, dtype: int64"
      ]
     },
     "execution_count": 52,
     "metadata": {},
     "output_type": "execute_result"
    }
   ],
   "source": [
    "df['BusinessTravel'].value_counts()"
   ]
  },
  {
   "cell_type": "code",
   "execution_count": 54,
   "id": "f86b277c",
   "metadata": {},
   "outputs": [
    {
     "data": {
      "text/plain": [
       "156"
      ]
     },
     "execution_count": 54,
     "metadata": {},
     "output_type": "execute_result"
    }
   ],
   "source": [
    "len(dfy[dfy['BusinessTravel'] == 'Travel_Rarely'])"
   ]
  },
  {
   "cell_type": "code",
   "execution_count": 57,
   "id": "1e84ce6a",
   "metadata": {},
   "outputs": [
    {
     "data": {
      "text/plain": [
       "69"
      ]
     },
     "execution_count": 57,
     "metadata": {},
     "output_type": "execute_result"
    }
   ],
   "source": [
    "len(dfy[dfy['BusinessTravel'] == 'Travel_Frequently'])"
   ]
  },
  {
   "cell_type": "code",
   "execution_count": 58,
   "id": "02fe6141",
   "metadata": {},
   "outputs": [
    {
     "data": {
      "text/plain": [
       "12"
      ]
     },
     "execution_count": 58,
     "metadata": {},
     "output_type": "execute_result"
    }
   ],
   "source": [
    "len(dfy[dfy['BusinessTravel'] == 'Non-Travel'])"
   ]
  },
  {
   "cell_type": "code",
   "execution_count": 61,
   "id": "bc8d3c0c",
   "metadata": {
    "scrolled": true
   },
   "outputs": [
    {
     "data": {
      "text/plain": [
       "Text(0, 0.5, 'TravelCount')"
      ]
     },
     "execution_count": 61,
     "metadata": {},
     "output_type": "execute_result"
    },
    {
     "data": {
      "image/png": "[encoded data removed]",
      "text/plain": [
       "<Figure size 640x480 with 1 Axes>"
      ]
     },
     "metadata": {},
     "output_type": "display_data"
    }
   ],
   "source": [
    "sns.countplot(x = dfy.BusinessTravel, data = dfy)\n",
    "mplt.ylabel('TravelCount')"
   ]
  },
  {
   "cell_type": "code",
   "execution_count": null,
   "id": "b9bc4723",
   "metadata": {},
   "outputs": [],
   "source": [
    "df.iloc[::,1:3]"
   ]
  },
  {
   "cell_type": "code",
   "execution_count": null,
   "id": "ac370b29",
   "metadata": {},
   "outputs": [],
   "source": [
    "sns.countplot(x='BusinessTravel',data=df,hue='Attrition')"
   ]
  },
  {
   "cell_type": "markdown",
   "id": "3a4c5b73",
   "metadata": {},
   "source": [
    "### Travel_Frequently having higher possiblility of attrition"
   ]
  },
  {
   "cell_type": "markdown",
   "id": "efe9db2a",
   "metadata": {},
   "source": [
    "### 4.DailyRate"
   ]
  },
  {
   "cell_type": "code",
   "execution_count": 6,
   "id": "7183d97a",
   "metadata": {
    "scrolled": true
   },
   "outputs": [
    {
     "data": {
      "text/html": [
       "<div>\n",
       "<style scoped>\n",
       "    .dataframe tbody tr th:only-of-type {\n",
       "        vertical-align: middle;\n",
       "    }\n",
       "\n",
       "    .dataframe tbody tr th {\n",
       "        vertical-align: top;\n",
       "    }\n",
       "\n",
       "    .dataframe thead th {\n",
       "        text-align: right;\n",
       "    }\n",
       "</style>\n",
       "<table border=\"1\" class=\"dataframe\">\n",
       "  <thead>\n",
       "    <tr style=\"text-align: right;\">\n",
       "      <th></th>\n",
       "      <th>Age</th>\n",
       "      <th>Attrition</th>\n",
       "      <th>BusinessTravel</th>\n",
       "      <th>DailyRate</th>\n",
       "      <th>Department</th>\n",
       "      <th>DistanceFromHome</th>\n",
       "      <th>Education</th>\n",
       "      <th>EducationField</th>\n",
       "      <th>EmployeeCount</th>\n",
       "      <th>EmployeeNumber</th>\n",
       "      <th>...</th>\n",
       "      <th>RelationshipSatisfaction</th>\n",
       "      <th>StandardHours</th>\n",
       "      <th>StockOptionLevel</th>\n",
       "      <th>TotalWorkingYears</th>\n",
       "      <th>TrainingTimesLastYear</th>\n",
       "      <th>WorkLifeBalance</th>\n",
       "      <th>YearsAtCompany</th>\n",
       "      <th>YearsInCurrentRole</th>\n",
       "      <th>YearsSinceLastPromotion</th>\n",
       "      <th>YearsWithCurrManager</th>\n",
       "    </tr>\n",
       "  </thead>\n",
       "  <tbody>\n",
       "    <tr>\n",
       "      <th>0</th>\n",
       "      <td>41</td>\n",
       "      <td>Yes</td>\n",
       "      <td>Travel_Rarely</td>\n",
       "      <td>1102</td>\n",
       "      <td>Sales</td>\n",
       "      <td>1</td>\n",
       "      <td>2</td>\n",
       "      <td>Life Sciences</td>\n",
       "      <td>1</td>\n",
       "      <td>1</td>\n",
       "      <td>...</td>\n",
       "      <td>1</td>\n",
       "      <td>80</td>\n",
       "      <td>0</td>\n",
       "      <td>8</td>\n",
       "      <td>0</td>\n",
       "      <td>1</td>\n",
       "      <td>6</td>\n",
       "      <td>4</td>\n",
       "      <td>0</td>\n",
       "      <td>5</td>\n",
       "    </tr>\n",
       "    <tr>\n",
       "      <th>1</th>\n",
       "      <td>49</td>\n",
       "      <td>No</td>\n",
       "      <td>Travel_Frequently</td>\n",
       "      <td>279</td>\n",
       "      <td>Research &amp; Development</td>\n",
       "      <td>8</td>\n",
       "      <td>1</td>\n",
       "      <td>Life Sciences</td>\n",
       "      <td>1</td>\n",
       "      <td>2</td>\n",
       "      <td>...</td>\n",
       "      <td>4</td>\n",
       "      <td>80</td>\n",
       "      <td>1</td>\n",
       "      <td>10</td>\n",
       "      <td>3</td>\n",
       "      <td>3</td>\n",
       "      <td>10</td>\n",
       "      <td>7</td>\n",
       "      <td>1</td>\n",
       "      <td>7</td>\n",
       "    </tr>\n",
       "    <tr>\n",
       "      <th>2</th>\n",
       "      <td>37</td>\n",
       "      <td>Yes</td>\n",
       "      <td>Travel_Rarely</td>\n",
       "      <td>1373</td>\n",
       "      <td>Research &amp; Development</td>\n",
       "      <td>2</td>\n",
       "      <td>2</td>\n",
       "      <td>Other</td>\n",
       "      <td>1</td>\n",
       "      <td>4</td>\n",
       "      <td>...</td>\n",
       "      <td>2</td>\n",
       "      <td>80</td>\n",
       "      <td>0</td>\n",
       "      <td>7</td>\n",
       "      <td>3</td>\n",
       "      <td>3</td>\n",
       "      <td>0</td>\n",
       "      <td>0</td>\n",
       "      <td>0</td>\n",
       "      <td>0</td>\n",
       "    </tr>\n",
       "    <tr>\n",
       "      <th>3</th>\n",
       "      <td>33</td>\n",
       "      <td>No</td>\n",
       "      <td>Travel_Frequently</td>\n",
       "      <td>1392</td>\n",
       "      <td>Research &amp; Development</td>\n",
       "      <td>3</td>\n",
       "      <td>4</td>\n",
       "      <td>Life Sciences</td>\n",
       "      <td>1</td>\n",
       "      <td>5</td>\n",
       "      <td>...</td>\n",
       "      <td>3</td>\n",
       "      <td>80</td>\n",
       "      <td>0</td>\n",
       "      <td>8</td>\n",
       "      <td>3</td>\n",
       "      <td>3</td>\n",
       "      <td>8</td>\n",
       "      <td>7</td>\n",
       "      <td>3</td>\n",
       "      <td>0</td>\n",
       "    </tr>\n",
       "    <tr>\n",
       "      <th>4</th>\n",
       "      <td>27</td>\n",
       "      <td>No</td>\n",
       "      <td>Travel_Rarely</td>\n",
       "      <td>591</td>\n",
       "      <td>Research &amp; Development</td>\n",
       "      <td>2</td>\n",
       "      <td>1</td>\n",
       "      <td>Medical</td>\n",
       "      <td>1</td>\n",
       "      <td>7</td>\n",
       "      <td>...</td>\n",
       "      <td>4</td>\n",
       "      <td>80</td>\n",
       "      <td>1</td>\n",
       "      <td>6</td>\n",
       "      <td>3</td>\n",
       "      <td>3</td>\n",
       "      <td>2</td>\n",
       "      <td>2</td>\n",
       "      <td>2</td>\n",
       "      <td>2</td>\n",
       "    </tr>\n",
       "    <tr>\n",
       "      <th>...</th>\n",
       "      <td>...</td>\n",
       "      <td>...</td>\n",
       "      <td>...</td>\n",
       "      <td>...</td>\n",
       "      <td>...</td>\n",
       "      <td>...</td>\n",
       "      <td>...</td>\n",
       "      <td>...</td>\n",
       "      <td>...</td>\n",
       "      <td>...</td>\n",
       "      <td>...</td>\n",
       "      <td>...</td>\n",
       "      <td>...</td>\n",
       "      <td>...</td>\n",
       "      <td>...</td>\n",
       "      <td>...</td>\n",
       "      <td>...</td>\n",
       "      <td>...</td>\n",
       "      <td>...</td>\n",
       "      <td>...</td>\n",
       "      <td>...</td>\n",
       "    </tr>\n",
       "    <tr>\n",
       "      <th>1465</th>\n",
       "      <td>36</td>\n",
       "      <td>No</td>\n",
       "      <td>Travel_Frequently</td>\n",
       "      <td>884</td>\n",
       "      <td>Research &amp; Development</td>\n",
       "      <td>23</td>\n",
       "      <td>2</td>\n",
       "      <td>Medical</td>\n",
       "      <td>1</td>\n",
       "      <td>2061</td>\n",
       "      <td>...</td>\n",
       "      <td>3</td>\n",
       "      <td>80</td>\n",
       "      <td>1</td>\n",
       "      <td>17</td>\n",
       "      <td>3</td>\n",
       "      <td>3</td>\n",
       "      <td>5</td>\n",
       "      <td>2</td>\n",
       "      <td>0</td>\n",
       "      <td>3</td>\n",
       "    </tr>\n",
       "    <tr>\n",
       "      <th>1466</th>\n",
       "      <td>39</td>\n",
       "      <td>No</td>\n",
       "      <td>Travel_Rarely</td>\n",
       "      <td>613</td>\n",
       "      <td>Research &amp; Development</td>\n",
       "      <td>6</td>\n",
       "      <td>1</td>\n",
       "      <td>Medical</td>\n",
       "      <td>1</td>\n",
       "      <td>2062</td>\n",
       "      <td>...</td>\n",
       "      <td>1</td>\n",
       "      <td>80</td>\n",
       "      <td>1</td>\n",
       "      <td>9</td>\n",
       "      <td>5</td>\n",
       "      <td>3</td>\n",
       "      <td>7</td>\n",
       "      <td>7</td>\n",
       "      <td>1</td>\n",
       "      <td>7</td>\n",
       "    </tr>\n",
       "    <tr>\n",
       "      <th>1467</th>\n",
       "      <td>27</td>\n",
       "      <td>No</td>\n",
       "      <td>Travel_Rarely</td>\n",
       "      <td>155</td>\n",
       "      <td>Research &amp; Development</td>\n",
       "      <td>4</td>\n",
       "      <td>3</td>\n",
       "      <td>Life Sciences</td>\n",
       "      <td>1</td>\n",
       "      <td>2064</td>\n",
       "      <td>...</td>\n",
       "      <td>2</td>\n",
       "      <td>80</td>\n",
       "      <td>1</td>\n",
       "      <td>6</td>\n",
       "      <td>0</td>\n",
       "      <td>3</td>\n",
       "      <td>6</td>\n",
       "      <td>2</td>\n",
       "      <td>0</td>\n",
       "      <td>3</td>\n",
       "    </tr>\n",
       "    <tr>\n",
       "      <th>1468</th>\n",
       "      <td>49</td>\n",
       "      <td>No</td>\n",
       "      <td>Travel_Frequently</td>\n",
       "      <td>1023</td>\n",
       "      <td>Sales</td>\n",
       "      <td>2</td>\n",
       "      <td>3</td>\n",
       "      <td>Medical</td>\n",
       "      <td>1</td>\n",
       "      <td>2065</td>\n",
       "      <td>...</td>\n",
       "      <td>4</td>\n",
       "      <td>80</td>\n",
       "      <td>0</td>\n",
       "      <td>17</td>\n",
       "      <td>3</td>\n",
       "      <td>2</td>\n",
       "      <td>9</td>\n",
       "      <td>6</td>\n",
       "      <td>0</td>\n",
       "      <td>8</td>\n",
       "    </tr>\n",
       "    <tr>\n",
       "      <th>1469</th>\n",
       "      <td>34</td>\n",
       "      <td>No</td>\n",
       "      <td>Travel_Rarely</td>\n",
       "      <td>628</td>\n",
       "      <td>Research &amp; Development</td>\n",
       "      <td>8</td>\n",
       "      <td>3</td>\n",
       "      <td>Medical</td>\n",
       "      <td>1</td>\n",
       "      <td>2068</td>\n",
       "      <td>...</td>\n",
       "      <td>1</td>\n",
       "      <td>80</td>\n",
       "      <td>0</td>\n",
       "      <td>6</td>\n",
       "      <td>3</td>\n",
       "      <td>4</td>\n",
       "      <td>4</td>\n",
       "      <td>3</td>\n",
       "      <td>1</td>\n",
       "      <td>2</td>\n",
       "    </tr>\n",
       "  </tbody>\n",
       "</table>\n",
       "<p>1470 rows × 35 columns</p>\n",
       "</div>"
      ],
      "text/plain": [
       "      Age Attrition     BusinessTravel  DailyRate              Department  \\\n",
       "0      41       Yes      Travel_Rarely       1102                   Sales   \n",
       "1      49        No  Travel_Frequently        279  Research & Development   \n",
       "2      37       Yes      Travel_Rarely       1373  Research & Development   \n",
       "3      33        No  Travel_Frequently       1392  Research & Development   \n",
       "4      27        No      Travel_Rarely        591  Research & Development   \n",
       "...   ...       ...                ...        ...                     ...   \n",
       "1465   36        No  Travel_Frequently        884  Research & Development   \n",
       "1466   39        No      Travel_Rarely        613  Research & Development   \n",
       "1467   27        No      Travel_Rarely        155  Research & Development   \n",
       "1468   49        No  Travel_Frequently       1023                   Sales   \n",
       "1469   34        No      Travel_Rarely        628  Research & Development   \n",
       "\n",
       "      DistanceFromHome  Education EducationField  EmployeeCount  \\\n",
       "0                    1          2  Life Sciences              1   \n",
       "1                    8          1  Life Sciences              1   \n",
       "2                    2          2          Other              1   \n",
       "3                    3          4  Life Sciences              1   \n",
       "4                    2          1        Medical              1   \n",
       "...                ...        ...            ...            ...   \n",
       "1465                23          2        Medical              1   \n",
       "1466                 6          1        Medical              1   \n",
       "1467                 4          3  Life Sciences              1   \n",
       "1468                 2          3        Medical              1   \n",
       "1469                 8          3        Medical              1   \n",
       "\n",
       "      EmployeeNumber  ...  RelationshipSatisfaction StandardHours  \\\n",
       "0                  1  ...                         1            80   \n",
       "1                  2  ...                         4            80   \n",
       "2                  4  ...                         2            80   \n",
       "3                  5  ...                         3            80   \n",
       "4                  7  ...                         4            80   \n",
       "...              ...  ...                       ...           ...   \n",
       "1465            2061  ...                         3            80   \n",
       "1466            2062  ...                         1            80   \n",
       "1467            2064  ...                         2            80   \n",
       "1468            2065  ...                         4            80   \n",
       "1469            2068  ...                         1            80   \n",
       "\n",
       "      StockOptionLevel  TotalWorkingYears  TrainingTimesLastYear  \\\n",
       "0                    0                  8                      0   \n",
       "1                    1                 10                      3   \n",
       "2                    0                  7                      3   \n",
       "3                    0                  8                      3   \n",
       "4                    1                  6                      3   \n",
       "...                ...                ...                    ...   \n",
       "1465                 1                 17                      3   \n",
       "1466                 1                  9                      5   \n",
       "1467                 1                  6                      0   \n",
       "1468                 0                 17                      3   \n",
       "1469                 0                  6                      3   \n",
       "\n",
       "     WorkLifeBalance  YearsAtCompany YearsInCurrentRole  \\\n",
       "0                  1               6                  4   \n",
       "1                  3              10                  7   \n",
       "2                  3               0                  0   \n",
       "3                  3               8                  7   \n",
       "4                  3               2                  2   \n",
       "...              ...             ...                ...   \n",
       "1465               3               5                  2   \n",
       "1466               3               7                  7   \n",
       "1467               3               6                  2   \n",
       "1468               2               9                  6   \n",
       "1469               4               4                  3   \n",
       "\n",
       "      YearsSinceLastPromotion  YearsWithCurrManager  \n",
       "0                           0                     5  \n",
       "1                           1                     7  \n",
       "2                           0                     0  \n",
       "3                           3                     0  \n",
       "4                           2                     2  \n",
       "...                       ...                   ...  \n",
       "1465                        0                     3  \n",
       "1466                        1                     7  \n",
       "1467                        0                     3  \n",
       "1468                        0                     8  \n",
       "1469                        1                     2  \n",
       "\n",
       "[1470 rows x 35 columns]"
      ]
     },
     "execution_count": 6,
     "metadata": {},
     "output_type": "execute_result"
    }
   ],
   "source": [
    "df"
   ]
  },
  {
   "cell_type": "code",
   "execution_count": 10,
   "id": "2cd2b3f7",
   "metadata": {},
   "outputs": [
    {
     "name": "stdout",
     "output_type": "stream",
     "text": [
      "102\n",
      "1499\n"
     ]
    }
   ],
   "source": [
    "print(min(df.DailyRate))\n",
    "print(max(df.DailyRate))"
   ]
  },
  {
   "cell_type": "code",
   "execution_count": 22,
   "id": "60744687",
   "metadata": {},
   "outputs": [
    {
     "ename": "AttributeError",
     "evalue": "'DataFrame' object has no attribute 'countplot'",
     "output_type": "error",
     "traceback": [
      "\u001b[1;31m---------------------------------------------------------------------------\u001b[0m",
      "\u001b[1;31mAttributeError\u001b[0m                            Traceback (most recent call last)",
      "Cell \u001b[1;32mIn [22], line 1\u001b[0m\n\u001b[1;32m----> 1\u001b[0m \u001b[43mdf\u001b[49m\u001b[43m[\u001b[49m\u001b[43mdf\u001b[49m\u001b[43m[\u001b[49m\u001b[38;5;124;43m'\u001b[39;49m\u001b[38;5;124;43mAttrition\u001b[39;49m\u001b[38;5;124;43m'\u001b[39;49m\u001b[43m]\u001b[49m\u001b[38;5;241;43m==\u001b[39;49m\u001b[38;5;124;43m'\u001b[39;49m\u001b[38;5;124;43mYes\u001b[39;49m\u001b[38;5;124;43m'\u001b[39;49m\u001b[43m]\u001b[49m\u001b[38;5;241;43m.\u001b[39;49m\u001b[43mcountplot\u001b[49m()\n",
      "File \u001b[1;32m~\\AppData\\Local\\Programs\\Python\\Python310\\lib\\site-packages\\pandas\\core\\generic.py:5902\u001b[0m, in \u001b[0;36mNDFrame.__getattr__\u001b[1;34m(self, name)\u001b[0m\n\u001b[0;32m   5895\u001b[0m \u001b[38;5;28;01mif\u001b[39;00m (\n\u001b[0;32m   5896\u001b[0m     name \u001b[38;5;129;01mnot\u001b[39;00m \u001b[38;5;129;01min\u001b[39;00m \u001b[38;5;28mself\u001b[39m\u001b[38;5;241m.\u001b[39m_internal_names_set\n\u001b[0;32m   5897\u001b[0m     \u001b[38;5;129;01mand\u001b[39;00m name \u001b[38;5;129;01mnot\u001b[39;00m \u001b[38;5;129;01min\u001b[39;00m \u001b[38;5;28mself\u001b[39m\u001b[38;5;241m.\u001b[39m_metadata\n\u001b[0;32m   5898\u001b[0m     \u001b[38;5;129;01mand\u001b[39;00m name \u001b[38;5;129;01mnot\u001b[39;00m \u001b[38;5;129;01min\u001b[39;00m \u001b[38;5;28mself\u001b[39m\u001b[38;5;241m.\u001b[39m_accessors\n\u001b[0;32m   5899\u001b[0m     \u001b[38;5;129;01mand\u001b[39;00m \u001b[38;5;28mself\u001b[39m\u001b[38;5;241m.\u001b[39m_info_axis\u001b[38;5;241m.\u001b[39m_can_hold_identifiers_and_holds_name(name)\n\u001b[0;32m   5900\u001b[0m ):\n\u001b[0;32m   5901\u001b[0m     \u001b[38;5;28;01mreturn\u001b[39;00m \u001b[38;5;28mself\u001b[39m[name]\n\u001b[1;32m-> 5902\u001b[0m \u001b[38;5;28;01mreturn\u001b[39;00m \u001b[38;5;28;43mobject\u001b[39;49m\u001b[38;5;241;43m.\u001b[39;49m\u001b[38;5;21;43m__getattribute__\u001b[39;49m\u001b[43m(\u001b[49m\u001b[38;5;28;43mself\u001b[39;49m\u001b[43m,\u001b[49m\u001b[43m \u001b[49m\u001b[43mname\u001b[49m\u001b[43m)\u001b[49m\n",
      "\u001b[1;31mAttributeError\u001b[0m: 'DataFrame' object has no attribute 'countplot'"
     ]
    }
   ],
   "source": [
    "sns.countplot(x = df[df['Attrition']=='Yes'] , )"
   ]
  },
  {
   "cell_type": "code",
   "execution_count": 18,
   "id": "55f14d05",
   "metadata": {
    "scrolled": true
   },
   "outputs": [
    {
     "data": {
      "text/plain": [
       "<seaborn.axisgrid.FacetGrid at 0x1b1251773d0>"
      ]
     },
     "execution_count": 18,
     "metadata": {},
     "output_type": "execute_result"
    },
    {
     "data": {
      "image/png": "[encoded data removed]",
      "text/plain": [
       "<Figure size 572.125x500 with 1 Axes>"
      ]
     },
     "metadata": {},
     "output_type": "display_data"
    }
   ],
   "source": [
    "sns.relplot(x = df.JobLevel, y = df.DailyRate, hue='Attrition',data = df)"
   ]
  },
  {
   "cell_type": "code",
   "execution_count": 8,
   "id": "0ee067a3",
   "metadata": {},
   "outputs": [
    {
     "data": {
      "text/plain": [
       "[102,\n",
       " 103,\n",
       " 104,\n",
       " 105,\n",
       " 106,\n",
       " 107,\n",
       " 109,\n",
       " 111,\n",
       " 111,\n",
       " 111,\n",
       " 115,\n",
       " 116,\n",
       " 116,\n",
       " 117,\n",
       " 117,\n",
       " 117,\n",
       " 117,\n",
       " 118,\n",
       " 118,\n",
       " 119,\n",
       " 119,\n",
       " 120,\n",
       " 120,\n",
       " 121,\n",
       " 121,\n",
       " 124,\n",
       " 124,\n",
       " 125,\n",
       " 128,\n",
       " 129,\n",
       " 130,\n",
       " 130,\n",
       " 131,\n",
       " 132,\n",
       " 134,\n",
       " 135,\n",
       " 135,\n",
       " 135,\n",
       " 136,\n",
       " 136,\n",
       " 138,\n",
       " 138,\n",
       " 140,\n",
       " 141,\n",
       " 141,\n",
       " 142,\n",
       " 142,\n",
       " 142,\n",
       " 143,\n",
       " 144,\n",
       " 144,\n",
       " 145,\n",
       " 146,\n",
       " 147,\n",
       " 147,\n",
       " 147,\n",
       " 147,\n",
       " 148,\n",
       " 150,\n",
       " 152,\n",
       " 153,\n",
       " 153,\n",
       " 154,\n",
       " 155,\n",
       " 155,\n",
       " 156,\n",
       " 157,\n",
       " 157,\n",
       " 160,\n",
       " 160,\n",
       " 161,\n",
       " 163,\n",
       " 163,\n",
       " 164,\n",
       " 167,\n",
       " 167,\n",
       " 168,\n",
       " 168,\n",
       " 170,\n",
       " 170,\n",
       " 172,\n",
       " 174,\n",
       " 176,\n",
       " 177,\n",
       " 177,\n",
       " 179,\n",
       " 180,\n",
       " 181,\n",
       " 182,\n",
       " 182,\n",
       " 185,\n",
       " 185,\n",
       " 188,\n",
       " 188,\n",
       " 189,\n",
       " 192,\n",
       " 192,\n",
       " 192,\n",
       " 193,\n",
       " 193,\n",
       " 194,\n",
       " 195,\n",
       " 196,\n",
       " 199,\n",
       " 200,\n",
       " 200,\n",
       " 201,\n",
       " 201,\n",
       " 201,\n",
       " 202,\n",
       " 202,\n",
       " 202,\n",
       " 203,\n",
       " 204,\n",
       " 205,\n",
       " 206,\n",
       " 207,\n",
       " 208,\n",
       " 210,\n",
       " 210,\n",
       " 211,\n",
       " 213,\n",
       " 216,\n",
       " 216,\n",
       " 216,\n",
       " 217,\n",
       " 217,\n",
       " 217,\n",
       " 217,\n",
       " 218,\n",
       " 218,\n",
       " 219,\n",
       " 224,\n",
       " 228,\n",
       " 228,\n",
       " 230,\n",
       " 231,\n",
       " 232,\n",
       " 234,\n",
       " 234,\n",
       " 237,\n",
       " 238,\n",
       " 238,\n",
       " 240,\n",
       " 240,\n",
       " 240,\n",
       " 241,\n",
       " 243,\n",
       " 244,\n",
       " 247,\n",
       " 247,\n",
       " 248,\n",
       " 249,\n",
       " 249,\n",
       " 251,\n",
       " 252,\n",
       " 252,\n",
       " 253,\n",
       " 254,\n",
       " 256,\n",
       " 258,\n",
       " 258,\n",
       " 261,\n",
       " 263,\n",
       " 264,\n",
       " 265,\n",
       " 265,\n",
       " 265,\n",
       " 266,\n",
       " 266,\n",
       " 267,\n",
       " 267,\n",
       " 267,\n",
       " 267,\n",
       " 268,\n",
       " 269,\n",
       " 269,\n",
       " 271,\n",
       " 277,\n",
       " 279,\n",
       " 280,\n",
       " 282,\n",
       " 285,\n",
       " 286,\n",
       " 287,\n",
       " 287,\n",
       " 288,\n",
       " 288,\n",
       " 289,\n",
       " 289,\n",
       " 290,\n",
       " 294,\n",
       " 296,\n",
       " 299,\n",
       " 300,\n",
       " 300,\n",
       " 300,\n",
       " 301,\n",
       " 301,\n",
       " 302,\n",
       " 303,\n",
       " 303,\n",
       " 303,\n",
       " 304,\n",
       " 304,\n",
       " 305,\n",
       " 306,\n",
       " 307,\n",
       " 309,\n",
       " 309,\n",
       " 310,\n",
       " 310,\n",
       " 311,\n",
       " 311,\n",
       " 313,\n",
       " 313,\n",
       " 314,\n",
       " 316,\n",
       " 317,\n",
       " 318,\n",
       " 318,\n",
       " 319,\n",
       " 319,\n",
       " 319,\n",
       " 322,\n",
       " 322,\n",
       " 325,\n",
       " 325,\n",
       " 326,\n",
       " 326,\n",
       " 328,\n",
       " 329,\n",
       " 329,\n",
       " 329,\n",
       " 329,\n",
       " 329,\n",
       " 330,\n",
       " 330,\n",
       " 330,\n",
       " 332,\n",
       " 333,\n",
       " 334,\n",
       " 334,\n",
       " 334,\n",
       " 334,\n",
       " 335,\n",
       " 335,\n",
       " 335,\n",
       " 336,\n",
       " 337,\n",
       " 337,\n",
       " 337,\n",
       " 341,\n",
       " 342,\n",
       " 342,\n",
       " 343,\n",
       " 343,\n",
       " 345,\n",
       " 346,\n",
       " 350,\n",
       " 350,\n",
       " 350,\n",
       " 350,\n",
       " 352,\n",
       " 355,\n",
       " 359,\n",
       " 359,\n",
       " 360,\n",
       " 362,\n",
       " 363,\n",
       " 364,\n",
       " 364,\n",
       " 365,\n",
       " 367,\n",
       " 369,\n",
       " 370,\n",
       " 370,\n",
       " 371,\n",
       " 371,\n",
       " 373,\n",
       " 374,\n",
       " 374,\n",
       " 376,\n",
       " 377,\n",
       " 379,\n",
       " 381,\n",
       " 381,\n",
       " 383,\n",
       " 383,\n",
       " 384,\n",
       " 390,\n",
       " 390,\n",
       " 391,\n",
       " 391,\n",
       " 392,\n",
       " 394,\n",
       " 395,\n",
       " 397,\n",
       " 397,\n",
       " 397,\n",
       " 401,\n",
       " 404,\n",
       " 405,\n",
       " 406,\n",
       " 408,\n",
       " 408,\n",
       " 408,\n",
       " 408,\n",
       " 408,\n",
       " 410,\n",
       " 410,\n",
       " 412,\n",
       " 413,\n",
       " 414,\n",
       " 415,\n",
       " 419,\n",
       " 419,\n",
       " 419,\n",
       " 422,\n",
       " 422,\n",
       " 426,\n",
       " 426,\n",
       " 427,\n",
       " 427,\n",
       " 427,\n",
       " 427,\n",
       " 428,\n",
       " 429,\n",
       " 429,\n",
       " 430,\n",
       " 430,\n",
       " 430,\n",
       " 430,\n",
       " 431,\n",
       " 432,\n",
       " 433,\n",
       " 436,\n",
       " 437,\n",
       " 438,\n",
       " 439,\n",
       " 440,\n",
       " 441,\n",
       " 441,\n",
       " 442,\n",
       " 443,\n",
       " 443,\n",
       " 444,\n",
       " 444,\n",
       " 444,\n",
       " 446,\n",
       " 447,\n",
       " 447,\n",
       " 448,\n",
       " 448,\n",
       " 452,\n",
       " 457,\n",
       " 458,\n",
       " 458,\n",
       " 459,\n",
       " 461,\n",
       " 461,\n",
       " 462,\n",
       " 464,\n",
       " 464,\n",
       " 464,\n",
       " 465,\n",
       " 465,\n",
       " 465,\n",
       " 465,\n",
       " 466,\n",
       " 467,\n",
       " 468,\n",
       " 469,\n",
       " 469,\n",
       " 469,\n",
       " 470,\n",
       " 470,\n",
       " 471,\n",
       " 471,\n",
       " 471,\n",
       " 472,\n",
       " 474,\n",
       " 477,\n",
       " 477,\n",
       " 478,\n",
       " 479,\n",
       " 480,\n",
       " 481,\n",
       " 482,\n",
       " 482,\n",
       " 482,\n",
       " 483,\n",
       " 486,\n",
       " 488,\n",
       " 489,\n",
       " 489,\n",
       " 490,\n",
       " 492,\n",
       " 492,\n",
       " 495,\n",
       " 495,\n",
       " 496,\n",
       " 498,\n",
       " 499,\n",
       " 500,\n",
       " 501,\n",
       " 501,\n",
       " 501,\n",
       " 504,\n",
       " 504,\n",
       " 505,\n",
       " 506,\n",
       " 506,\n",
       " 507,\n",
       " 507,\n",
       " 508,\n",
       " 508,\n",
       " 509,\n",
       " 509,\n",
       " 511,\n",
       " 511,\n",
       " 515,\n",
       " 515,\n",
       " 516,\n",
       " 523,\n",
       " 523,\n",
       " 524,\n",
       " 525,\n",
       " 526,\n",
       " 527,\n",
       " 527,\n",
       " 528,\n",
       " 528,\n",
       " 528,\n",
       " 529,\n",
       " 529,\n",
       " 530,\n",
       " 530,\n",
       " 530,\n",
       " 530,\n",
       " 530,\n",
       " 531,\n",
       " 532,\n",
       " 532,\n",
       " 534,\n",
       " 534,\n",
       " 535,\n",
       " 536,\n",
       " 538,\n",
       " 538,\n",
       " 541,\n",
       " 541,\n",
       " 541,\n",
       " 542,\n",
       " 543,\n",
       " 543,\n",
       " 544,\n",
       " 544,\n",
       " 546,\n",
       " 546,\n",
       " 548,\n",
       " 548,\n",
       " 548,\n",
       " 549,\n",
       " 549,\n",
       " 552,\n",
       " 553,\n",
       " 555,\n",
       " 555,\n",
       " 556,\n",
       " 556,\n",
       " 557,\n",
       " 557,\n",
       " 558,\n",
       " 559,\n",
       " 559,\n",
       " 560,\n",
       " 561,\n",
       " 561,\n",
       " 562,\n",
       " 563,\n",
       " 566,\n",
       " 566,\n",
       " 567,\n",
       " 570,\n",
       " 570,\n",
       " 571,\n",
       " 571,\n",
       " 571,\n",
       " 572,\n",
       " 573,\n",
       " 574,\n",
       " 574,\n",
       " 575,\n",
       " 575,\n",
       " 575,\n",
       " 575,\n",
       " 580,\n",
       " 580,\n",
       " 581,\n",
       " 581,\n",
       " 582,\n",
       " 583,\n",
       " 583,\n",
       " 583,\n",
       " 584,\n",
       " 585,\n",
       " 585,\n",
       " 586,\n",
       " 587,\n",
       " 587,\n",
       " 588,\n",
       " 589,\n",
       " 589,\n",
       " 589,\n",
       " 589,\n",
       " 590,\n",
       " 591,\n",
       " 591,\n",
       " 592,\n",
       " 592,\n",
       " 593,\n",
       " 593,\n",
       " 594,\n",
       " 594,\n",
       " 598,\n",
       " 599,\n",
       " 600,\n",
       " 601,\n",
       " 601,\n",
       " 602,\n",
       " 602,\n",
       " 603,\n",
       " 603,\n",
       " 604,\n",
       " 604,\n",
       " 605,\n",
       " 607,\n",
       " 607,\n",
       " 607,\n",
       " 608,\n",
       " 611,\n",
       " 613,\n",
       " 616,\n",
       " 616,\n",
       " 617,\n",
       " 618,\n",
       " 618,\n",
       " 619,\n",
       " 621,\n",
       " 621,\n",
       " 622,\n",
       " 622,\n",
       " 622,\n",
       " 625,\n",
       " 625,\n",
       " 626,\n",
       " 628,\n",
       " 629,\n",
       " 630,\n",
       " 632,\n",
       " 634,\n",
       " 634,\n",
       " 635,\n",
       " 635,\n",
       " 635,\n",
       " 636,\n",
       " 636,\n",
       " 638,\n",
       " 638,\n",
       " 638,\n",
       " 640,\n",
       " 641,\n",
       " 642,\n",
       " 644,\n",
       " 645,\n",
       " 645,\n",
       " 646,\n",
       " 647,\n",
       " 648,\n",
       " 650,\n",
       " 652,\n",
       " 653,\n",
       " 653,\n",
       " 654,\n",
       " 654,\n",
       " 654,\n",
       " 655,\n",
       " 657,\n",
       " 658,\n",
       " 658,\n",
       " 660,\n",
       " 660,\n",
       " 661,\n",
       " 661,\n",
       " 661,\n",
       " 662,\n",
       " 662,\n",
       " 663,\n",
       " 663,\n",
       " 664,\n",
       " 665,\n",
       " 665,\n",
       " 666,\n",
       " 667,\n",
       " 667,\n",
       " 669,\n",
       " 669,\n",
       " 670,\n",
       " 670,\n",
       " 671,\n",
       " 672,\n",
       " 672,\n",
       " 673,\n",
       " 674,\n",
       " 675,\n",
       " 676,\n",
       " 676,\n",
       " 678,\n",
       " 682,\n",
       " 682,\n",
       " 683,\n",
       " 684,\n",
       " 685,\n",
       " 685,\n",
       " 685,\n",
       " 688,\n",
       " 688,\n",
       " 688,\n",
       " 688,\n",
       " 689,\n",
       " 691,\n",
       " 691,\n",
       " 691,\n",
       " 691,\n",
       " 691,\n",
       " 691,\n",
       " 692,\n",
       " 692,\n",
       " 693,\n",
       " 693,\n",
       " 694,\n",
       " 696,\n",
       " 697,\n",
       " 697,\n",
       " 699,\n",
       " 699,\n",
       " 702,\n",
       " 702,\n",
       " 703,\n",
       " 703,\n",
       " 703,\n",
       " 704,\n",
       " 705,\n",
       " 706,\n",
       " 708,\n",
       " 711,\n",
       " 711,\n",
       " 713,\n",
       " 715,\n",
       " 715,\n",
       " 715,\n",
       " 715,\n",
       " 717,\n",
       " 718,\n",
       " 718,\n",
       " 719,\n",
       " 720,\n",
       " 721,\n",
       " 722,\n",
       " 722,\n",
       " 722,\n",
       " 723,\n",
       " 723,\n",
       " 725,\n",
       " 726,\n",
       " 727,\n",
       " 727,\n",
       " 728,\n",
       " 728,\n",
       " 734,\n",
       " 735,\n",
       " 735,\n",
       " 735,\n",
       " 736,\n",
       " 737,\n",
       " 738,\n",
       " 740,\n",
       " 741,\n",
       " 746,\n",
       " 746,\n",
       " 746,\n",
       " 748,\n",
       " 750,\n",
       " 750,\n",
       " 750,\n",
       " 754,\n",
       " 755,\n",
       " 756,\n",
       " 759,\n",
       " 760,\n",
       " 763,\n",
       " 766,\n",
       " 769,\n",
       " 770,\n",
       " 770,\n",
       " 771,\n",
       " 771,\n",
       " 772,\n",
       " 773,\n",
       " 775,\n",
       " 775,\n",
       " 775,\n",
       " 776,\n",
       " 781,\n",
       " 782,\n",
       " 783,\n",
       " 783,\n",
       " 786,\n",
       " 788,\n",
       " 790,\n",
       " 791,\n",
       " 791,\n",
       " 792,\n",
       " 793,\n",
       " 793,\n",
       " 793,\n",
       " 796,\n",
       " 796,\n",
       " 797,\n",
       " 798,\n",
       " 798,\n",
       " 799,\n",
       " 801,\n",
       " 802,\n",
       " 802,\n",
       " 804,\n",
       " 804,\n",
       " 805,\n",
       " 805,\n",
       " 805,\n",
       " 806,\n",
       " 806,\n",
       " 807,\n",
       " 807,\n",
       " 809,\n",
       " 809,\n",
       " 809,\n",
       " 810,\n",
       " 810,\n",
       " 810,\n",
       " 812,\n",
       " 813,\n",
       " 813,\n",
       " 813,\n",
       " 817,\n",
       " 817,\n",
       " 818,\n",
       " 819,\n",
       " 819,\n",
       " 821,\n",
       " 821,\n",
       " 823,\n",
       " 823,\n",
       " 824,\n",
       " 827,\n",
       " 827,\n",
       " 827,\n",
       " 827,\n",
       " 828,\n",
       " 829,\n",
       " 829,\n",
       " 829,\n",
       " 829,\n",
       " 830,\n",
       " 832,\n",
       " 832,\n",
       " 833,\n",
       " 833,\n",
       " 835,\n",
       " 836,\n",
       " 836,\n",
       " 840,\n",
       " 841,\n",
       " 845,\n",
       " 848,\n",
       " 849,\n",
       " 849,\n",
       " 852,\n",
       " 852,\n",
       " 852,\n",
       " 853,\n",
       " 853,\n",
       " 853,\n",
       " 854,\n",
       " 855,\n",
       " 855,\n",
       " 855,\n",
       " 857,\n",
       " 857,\n",
       " 859,\n",
       " 862,\n",
       " 866,\n",
       " 867,\n",
       " 867,\n",
       " 867,\n",
       " 868,\n",
       " 869,\n",
       " 871,\n",
       " 874,\n",
       " 878,\n",
       " 878,\n",
       " 879,\n",
       " 880,\n",
       " 881,\n",
       " 882,\n",
       " 882,\n",
       " 883,\n",
       " 884,\n",
       " 884,\n",
       " 884,\n",
       " 885,\n",
       " 885,\n",
       " 887,\n",
       " 888,\n",
       " 889,\n",
       " 890,\n",
       " 890,\n",
       " 890,\n",
       " 891,\n",
       " 894,\n",
       " 894,\n",
       " 895,\n",
       " 895,\n",
       " 895,\n",
       " 896,\n",
       " 896,\n",
       " 896,\n",
       " 897,\n",
       " 898,\n",
       " 902,\n",
       " 903,\n",
       " 903,\n",
       " 905,\n",
       " 906,\n",
       " 906,\n",
       " 906,\n",
       " 906,\n",
       " 911,\n",
       " 913,\n",
       " 916,\n",
       " 917,\n",
       " 918,\n",
       " 920,\n",
       " 920,\n",
       " 920,\n",
       " 921,\n",
       " 921,\n",
       " 921,\n",
       " 921,\n",
       " 922,\n",
       " 922,\n",
       " 924,\n",
       " 926,\n",
       " 928,\n",
       " 928,\n",
       " 929,\n",
       " 930,\n",
       " 930,\n",
       " 930,\n",
       " 931,\n",
       " 932,\n",
       " 933,\n",
       " 933,\n",
       " 933,\n",
       " 933,\n",
       " 935,\n",
       " 937,\n",
       " 938,\n",
       " 939,\n",
       " 942,\n",
       " 942,\n",
       " 943,\n",
       " 944,\n",
       " 945,\n",
       " 945,\n",
       " 945,\n",
       " 946,\n",
       " 949,\n",
       " 950,\n",
       " 950,\n",
       " 950,\n",
       " 950,\n",
       " 953,\n",
       " 954,\n",
       " 954,\n",
       " 955,\n",
       " 956,\n",
       " 957,\n",
       " 959,\n",
       " 959,\n",
       " 959,\n",
       " 964,\n",
       " 966,\n",
       " 967,\n",
       " 967,\n",
       " 968,\n",
       " 969,\n",
       " 970,\n",
       " 970,\n",
       " 970,\n",
       " 971,\n",
       " 971,\n",
       " 974,\n",
       " 975,\n",
       " 976,\n",
       " 976,\n",
       " 977,\n",
       " 977,\n",
       " 977,\n",
       " 977,\n",
       " 979,\n",
       " 979,\n",
       " 981,\n",
       " 982,\n",
       " 982,\n",
       " 983,\n",
       " 984,\n",
       " 984,\n",
       " 986,\n",
       " 986,\n",
       " 988,\n",
       " 989,\n",
       " 989,\n",
       " 990,\n",
       " 990,\n",
       " 991,\n",
       " 991,\n",
       " 991,\n",
       " 992,\n",
       " 992,\n",
       " 994,\n",
       " 994,\n",
       " 995,\n",
       " 995,\n",
       " 996,\n",
       " 999,\n",
       " 1001,\n",
       " 1001,\n",
       " 1001,\n",
       " 1002,\n",
       " 1003,\n",
       " 1003,\n",
       " 1003,\n",
       " 1005,\n",
       " 1005,\n",
       " 1005,\n",
       " 1009,\n",
       " 1009,\n",
       " 1009,\n",
       " 1010,\n",
       " 1012,\n",
       " 1015,\n",
       " 1017,\n",
       " 1017,\n",
       " 1017,\n",
       " 1018,\n",
       " 1018,\n",
       " 1018,\n",
       " 1023,\n",
       " 1029,\n",
       " 1030,\n",
       " 1031,\n",
       " 1033,\n",
       " 1034,\n",
       " 1034,\n",
       " 1035,\n",
       " 1037,\n",
       " 1038,\n",
       " 1038,\n",
       " 1040,\n",
       " 1040,\n",
       " 1041,\n",
       " 1045,\n",
       " 1046,\n",
       " 1050,\n",
       " 1050,\n",
       " 1052,\n",
       " 1053,\n",
       " 1054,\n",
       " 1055,\n",
       " 1055,\n",
       " 1059,\n",
       " 1060,\n",
       " 1062,\n",
       " 1062,\n",
       " 1063,\n",
       " 1064,\n",
       " 1065,\n",
       " 1066,\n",
       " ...]"
      ]
     },
     "execution_count": 8,
     "metadata": {},
     "output_type": "execute_result"
    }
   ],
   "source": [
    "sorted(df.DailyRate)"
   ]
  },
  {
   "cell_type": "code",
   "execution_count": 51,
   "id": "68b84932",
   "metadata": {
    "scrolled": true
   },
   "outputs": [
    {
     "data": {
      "text/plain": [
       "691     6\n",
       "408     5\n",
       "530     5\n",
       "1329    5\n",
       "1082    5\n",
       "       ..\n",
       "650     1\n",
       "279     1\n",
       "316     1\n",
       "314     1\n",
       "628     1\n",
       "Name: DailyRate, Length: 886, dtype: int64"
      ]
     },
     "execution_count": 51,
     "metadata": {},
     "output_type": "execute_result"
    }
   ],
   "source": [
    "df['DailyRate'].value_counts()"
   ]
  },
  {
   "cell_type": "code",
   "execution_count": null,
   "id": "74069149",
   "metadata": {},
   "outputs": [],
   "source": [
    "sns.boxplot(df['DailyRate'])"
   ]
  },
  {
   "cell_type": "code",
   "execution_count": null,
   "id": "7c1d80f8",
   "metadata": {},
   "outputs": [],
   "source": [
    "sns.violinplot(x=df['DailyRate'],y=df['Attrition'])"
   ]
  },
  {
   "cell_type": "markdown",
   "id": "3a2e8998",
   "metadata": {},
   "source": [
    "### 5.Department "
   ]
  },
  {
   "cell_type": "code",
   "execution_count": 50,
   "id": "8219653a",
   "metadata": {},
   "outputs": [
    {
     "data": {
      "text/plain": [
       "Research & Development    961\n",
       "Sales                     446\n",
       "Human Resources            63\n",
       "Name: Department, dtype: int64"
      ]
     },
     "execution_count": 50,
     "metadata": {},
     "output_type": "execute_result"
    }
   ],
   "source": [
    "df['Department'].value_counts()"
   ]
  },
  {
   "cell_type": "code",
   "execution_count": null,
   "id": "b09a63a3",
   "metadata": {},
   "outputs": [],
   "source": [
    "pd.crosstab(df['Department'],df['Attrition'])"
   ]
  },
  {
   "cell_type": "code",
   "execution_count": null,
   "id": "46b990d4",
   "metadata": {},
   "outputs": [],
   "source": [
    "pd.crosstab(df['Department'],df['Attrition'],normalize='index')*100"
   ]
  },
  {
   "cell_type": "code",
   "execution_count": null,
   "id": "f28891a7",
   "metadata": {},
   "outputs": [],
   "source": [
    "(pd.crosstab(df['Department'],df['Attrition'],normalize='index')*100).plot(kind='bar')"
   ]
  },
  {
   "cell_type": "code",
   "execution_count": null,
   "id": "c240c941",
   "metadata": {},
   "outputs": [],
   "source": [
    "df['Department'].value_counts(normalize=True).plot(kind='pie', autopct = '%1.2f%%')"
   ]
  },
  {
   "cell_type": "code",
   "execution_count": null,
   "id": "ff8a3007",
   "metadata": {},
   "outputs": [],
   "source": [
    "sns.countplot(x='Department',data=df,hue='Attrition')"
   ]
  },
  {
   "cell_type": "markdown",
   "id": "252e3a8d",
   "metadata": {},
   "source": [
    "### HR and sales higher possiblility for attrition"
   ]
  },
  {
   "cell_type": "markdown",
   "id": "714d7b5f",
   "metadata": {},
   "source": [
    "### 6.DistanceFromHome"
   ]
  },
  {
   "cell_type": "code",
   "execution_count": 49,
   "id": "30ebacf6",
   "metadata": {},
   "outputs": [
    {
     "data": {
      "text/plain": [
       "[1,\n",
       " 2,\n",
       " 3,\n",
       " 4,\n",
       " 5,\n",
       " 6,\n",
       " 7,\n",
       " 8,\n",
       " 9,\n",
       " 10,\n",
       " 11,\n",
       " 12,\n",
       " 13,\n",
       " 14,\n",
       " 15,\n",
       " 16,\n",
       " 17,\n",
       " 18,\n",
       " 19,\n",
       " 20,\n",
       " 21,\n",
       " 22,\n",
       " 23,\n",
       " 24,\n",
       " 25,\n",
       " 26,\n",
       " 27,\n",
       " 28,\n",
       " 29]"
      ]
     },
     "execution_count": 49,
     "metadata": {},
     "output_type": "execute_result"
    }
   ],
   "source": [
    "sorted(df['DistanceFromHome'].unique())"
   ]
  },
  {
   "cell_type": "code",
   "execution_count": 48,
   "id": "e5628196",
   "metadata": {
    "scrolled": true
   },
   "outputs": [
    {
     "data": {
      "text/plain": [
       "2     211\n",
       "1     208\n",
       "10     86\n",
       "9      85\n",
       "3      84\n",
       "7      84\n",
       "8      80\n",
       "5      65\n",
       "4      64\n",
       "6      59\n",
       "16     32\n",
       "11     29\n",
       "24     28\n",
       "23     27\n",
       "29     27\n",
       "15     26\n",
       "18     26\n",
       "26     25\n",
       "25     25\n",
       "20     25\n",
       "28     23\n",
       "19     22\n",
       "14     21\n",
       "12     20\n",
       "17     20\n",
       "22     19\n",
       "13     19\n",
       "21     18\n",
       "27     12\n",
       "Name: DistanceFromHome, dtype: int64"
      ]
     },
     "execution_count": 48,
     "metadata": {},
     "output_type": "execute_result"
    }
   ],
   "source": [
    "df['DistanceFromHome'].value_counts()"
   ]
  },
  {
   "cell_type": "code",
   "execution_count": null,
   "id": "f62baa86",
   "metadata": {},
   "outputs": [],
   "source": [
    "pd.crosstab(df['DistanceFromHome'],df['Attrition'],normalize='index')*100"
   ]
  },
  {
   "cell_type": "code",
   "execution_count": null,
   "id": "d0319370",
   "metadata": {},
   "outputs": [],
   "source": [
    "mplt.figure(figsize=(40,30))\n",
    "(pd.crosstab(df['DistanceFromHome'],df['Attrition'],normalize='index')*100).plot(kind='bar')"
   ]
  },
  {
   "cell_type": "code",
   "execution_count": null,
   "id": "9020a33d",
   "metadata": {},
   "outputs": [],
   "source": [
    "sns.boxplot(df['DistanceFromHome'])"
   ]
  },
  {
   "cell_type": "markdown",
   "id": "d2403291",
   "metadata": {},
   "source": [
    "### 7.Education"
   ]
  },
  {
   "cell_type": "code",
   "execution_count": 47,
   "id": "5489611a",
   "metadata": {},
   "outputs": [
    {
     "data": {
      "text/plain": [
       "3    572\n",
       "4    398\n",
       "2    282\n",
       "1    170\n",
       "5     48\n",
       "Name: Education, dtype: int64"
      ]
     },
     "execution_count": 47,
     "metadata": {},
     "output_type": "execute_result"
    }
   ],
   "source": [
    "df['Education'].value_counts()"
   ]
  },
  {
   "cell_type": "code",
   "execution_count": null,
   "id": "fe1c53a1",
   "metadata": {},
   "outputs": [],
   "source": [
    "sns.countplot(x='Education',data=df,hue='Attrition')"
   ]
  },
  {
   "cell_type": "code",
   "execution_count": null,
   "id": "75c78ca9",
   "metadata": {},
   "outputs": [],
   "source": [
    "mplt.figure(figsize=(40,30))\n",
    "(pd.crosstab(df['Education'],df['Attrition'],normalize='index')*100).plot(kind='bar')"
   ]
  },
  {
   "cell_type": "markdown",
   "id": "e7e4b865",
   "metadata": {},
   "source": [
    "### 8.EducationField"
   ]
  },
  {
   "cell_type": "code",
   "execution_count": 46,
   "id": "7a45ed84",
   "metadata": {},
   "outputs": [
    {
     "data": {
      "text/plain": [
       "Life Sciences       606\n",
       "Medical             464\n",
       "Marketing           159\n",
       "Technical Degree    132\n",
       "Other                82\n",
       "Human Resources      27\n",
       "Name: EducationField, dtype: int64"
      ]
     },
     "execution_count": 46,
     "metadata": {},
     "output_type": "execute_result"
    }
   ],
   "source": [
    "df['EducationField'].value_counts()"
   ]
  },
  {
   "cell_type": "code",
   "execution_count": null,
   "id": "ae61e1e5",
   "metadata": {},
   "outputs": [],
   "source": [
    "mplt.figure(figsize=(40,30))\n",
    "(pd.crosstab(df['EducationField'],df['Attrition'],normalize='index')*100).plot(kind='bar')"
   ]
  },
  {
   "cell_type": "markdown",
   "id": "c49026d7",
   "metadata": {},
   "source": [
    "#### HR ,Marketing and Technical"
   ]
  },
  {
   "cell_type": "markdown",
   "id": "05f9a5f2",
   "metadata": {},
   "source": [
    "### 9.EmployeeCount"
   ]
  },
  {
   "cell_type": "code",
   "execution_count": null,
   "id": "58e52bcb",
   "metadata": {},
   "outputs": [],
   "source": [
    "df['EmployeeCount'].value_counts()"
   ]
  },
  {
   "cell_type": "markdown",
   "id": "1b41e95a",
   "metadata": {},
   "source": [
    "#### This is feature excluded"
   ]
  },
  {
   "cell_type": "markdown",
   "id": "901d6dc1",
   "metadata": {},
   "source": [
    "### 10.EmployeeNumber"
   ]
  },
  {
   "cell_type": "code",
   "execution_count": 45,
   "id": "a7c3f97a",
   "metadata": {},
   "outputs": [
    {
     "ename": "KeyError",
     "evalue": "-1",
     "output_type": "error",
     "traceback": [
      "\u001b[1;31m---------------------------------------------------------------------------\u001b[0m",
      "\u001b[1;31mValueError\u001b[0m                                Traceback (most recent call last)",
      "File \u001b[1;32m~\\AppData\\Local\\Programs\\Python\\Python310\\lib\\site-packages\\pandas\\core\\indexes\\range.py:391\u001b[0m, in \u001b[0;36mRangeIndex.get_loc\u001b[1;34m(self, key, method, tolerance)\u001b[0m\n\u001b[0;32m    390\u001b[0m \u001b[38;5;28;01mtry\u001b[39;00m:\n\u001b[1;32m--> 391\u001b[0m     \u001b[38;5;28;01mreturn\u001b[39;00m \u001b[38;5;28;43mself\u001b[39;49m\u001b[38;5;241;43m.\u001b[39;49m\u001b[43m_range\u001b[49m\u001b[38;5;241;43m.\u001b[39;49m\u001b[43mindex\u001b[49m\u001b[43m(\u001b[49m\u001b[43mnew_key\u001b[49m\u001b[43m)\u001b[49m\n\u001b[0;32m    392\u001b[0m \u001b[38;5;28;01mexcept\u001b[39;00m \u001b[38;5;167;01mValueError\u001b[39;00m \u001b[38;5;28;01mas\u001b[39;00m err:\n",
      "\u001b[1;31mValueError\u001b[0m: -1 is not in range",
      "\nThe above exception was the direct cause of the following exception:\n",
      "\u001b[1;31mKeyError\u001b[0m                                  Traceback (most recent call last)",
      "Cell \u001b[1;32mIn [45], line 1\u001b[0m\n\u001b[1;32m----> 1\u001b[0m \u001b[43mdf\u001b[49m\u001b[43m[\u001b[49m\u001b[38;5;124;43m'\u001b[39;49m\u001b[38;5;124;43mEmployeeNumber\u001b[39;49m\u001b[38;5;124;43m'\u001b[39;49m\u001b[43m]\u001b[49m\u001b[43m[\u001b[49m\u001b[38;5;241;43m-\u001b[39;49m\u001b[38;5;241;43m1\u001b[39;49m\u001b[43m]\u001b[49m\n",
      "File \u001b[1;32m~\\AppData\\Local\\Programs\\Python\\Python310\\lib\\site-packages\\pandas\\core\\series.py:981\u001b[0m, in \u001b[0;36mSeries.__getitem__\u001b[1;34m(self, key)\u001b[0m\n\u001b[0;32m    978\u001b[0m     \u001b[38;5;28;01mreturn\u001b[39;00m \u001b[38;5;28mself\u001b[39m\u001b[38;5;241m.\u001b[39m_values[key]\n\u001b[0;32m    980\u001b[0m \u001b[38;5;28;01melif\u001b[39;00m key_is_scalar:\n\u001b[1;32m--> 981\u001b[0m     \u001b[38;5;28;01mreturn\u001b[39;00m \u001b[38;5;28;43mself\u001b[39;49m\u001b[38;5;241;43m.\u001b[39;49m\u001b[43m_get_value\u001b[49m\u001b[43m(\u001b[49m\u001b[43mkey\u001b[49m\u001b[43m)\u001b[49m\n\u001b[0;32m    983\u001b[0m \u001b[38;5;28;01mif\u001b[39;00m is_hashable(key):\n\u001b[0;32m    984\u001b[0m     \u001b[38;5;66;03m# Otherwise index.get_value will raise InvalidIndexError\u001b[39;00m\n\u001b[0;32m    985\u001b[0m     \u001b[38;5;28;01mtry\u001b[39;00m:\n\u001b[0;32m    986\u001b[0m         \u001b[38;5;66;03m# For labels that don't resolve as scalars like tuples and frozensets\u001b[39;00m\n",
      "File \u001b[1;32m~\\AppData\\Local\\Programs\\Python\\Python310\\lib\\site-packages\\pandas\\core\\series.py:1089\u001b[0m, in \u001b[0;36mSeries._get_value\u001b[1;34m(self, label, takeable)\u001b[0m\n\u001b[0;32m   1086\u001b[0m     \u001b[38;5;28;01mreturn\u001b[39;00m \u001b[38;5;28mself\u001b[39m\u001b[38;5;241m.\u001b[39m_values[label]\n\u001b[0;32m   1088\u001b[0m \u001b[38;5;66;03m# Similar to Index.get_value, but we do not fall back to positional\u001b[39;00m\n\u001b[1;32m-> 1089\u001b[0m loc \u001b[38;5;241m=\u001b[39m \u001b[38;5;28;43mself\u001b[39;49m\u001b[38;5;241;43m.\u001b[39;49m\u001b[43mindex\u001b[49m\u001b[38;5;241;43m.\u001b[39;49m\u001b[43mget_loc\u001b[49m\u001b[43m(\u001b[49m\u001b[43mlabel\u001b[49m\u001b[43m)\u001b[49m\n\u001b[0;32m   1090\u001b[0m \u001b[38;5;28;01mreturn\u001b[39;00m \u001b[38;5;28mself\u001b[39m\u001b[38;5;241m.\u001b[39mindex\u001b[38;5;241m.\u001b[39m_get_values_for_loc(\u001b[38;5;28mself\u001b[39m, loc, label)\n",
      "File \u001b[1;32m~\\AppData\\Local\\Programs\\Python\\Python310\\lib\\site-packages\\pandas\\core\\indexes\\range.py:393\u001b[0m, in \u001b[0;36mRangeIndex.get_loc\u001b[1;34m(self, key, method, tolerance)\u001b[0m\n\u001b[0;32m    391\u001b[0m         \u001b[38;5;28;01mreturn\u001b[39;00m \u001b[38;5;28mself\u001b[39m\u001b[38;5;241m.\u001b[39m_range\u001b[38;5;241m.\u001b[39mindex(new_key)\n\u001b[0;32m    392\u001b[0m     \u001b[38;5;28;01mexcept\u001b[39;00m \u001b[38;5;167;01mValueError\u001b[39;00m \u001b[38;5;28;01mas\u001b[39;00m err:\n\u001b[1;32m--> 393\u001b[0m         \u001b[38;5;28;01mraise\u001b[39;00m \u001b[38;5;167;01mKeyError\u001b[39;00m(key) \u001b[38;5;28;01mfrom\u001b[39;00m \u001b[38;5;21;01merr\u001b[39;00m\n\u001b[0;32m    394\u001b[0m \u001b[38;5;28mself\u001b[39m\u001b[38;5;241m.\u001b[39m_check_indexing_error(key)\n\u001b[0;32m    395\u001b[0m \u001b[38;5;28;01mraise\u001b[39;00m \u001b[38;5;167;01mKeyError\u001b[39;00m(key)\n",
      "\u001b[1;31mKeyError\u001b[0m: -1"
     ]
    }
   ],
   "source": [
    "df['EmployeeNumber']"
   ]
  },
  {
   "cell_type": "code",
   "execution_count": 43,
   "id": "7148ce2e",
   "metadata": {},
   "outputs": [
    {
     "data": {
      "text/plain": [
       "1470"
      ]
     },
     "execution_count": 43,
     "metadata": {},
     "output_type": "execute_result"
    }
   ],
   "source": [
    "df['EmployeeNumber'].nunique()"
   ]
  },
  {
   "cell_type": "code",
   "execution_count": 41,
   "id": "9500c86a",
   "metadata": {},
   "outputs": [
    {
     "data": {
      "text/plain": [
       "1       1\n",
       "1391    1\n",
       "1389    1\n",
       "1387    1\n",
       "1383    1\n",
       "       ..\n",
       "659     1\n",
       "657     1\n",
       "656     1\n",
       "655     1\n",
       "2068    1\n",
       "Name: EmployeeNumber, Length: 1470, dtype: int64"
      ]
     },
     "execution_count": 41,
     "metadata": {},
     "output_type": "execute_result"
    }
   ],
   "source": [
    "df['EmployeeNumber'].value_counts()"
   ]
  },
  {
   "cell_type": "markdown",
   "id": "e1363e47",
   "metadata": {},
   "source": [
    "#### This feature excluded"
   ]
  },
  {
   "cell_type": "code",
   "execution_count": null,
   "id": "40bd2e18",
   "metadata": {},
   "outputs": [],
   "source": [
    "df.head()"
   ]
  },
  {
   "cell_type": "markdown",
   "id": "4e50559d",
   "metadata": {},
   "source": [
    "### 11.EnvironmentSatisfaction"
   ]
  },
  {
   "cell_type": "code",
   "execution_count": 40,
   "id": "9ae6261c",
   "metadata": {
    "scrolled": true
   },
   "outputs": [
    {
     "data": {
      "text/plain": [
       "3    453\n",
       "4    446\n",
       "2    287\n",
       "1    284\n",
       "Name: EnvironmentSatisfaction, dtype: int64"
      ]
     },
     "execution_count": 40,
     "metadata": {},
     "output_type": "execute_result"
    }
   ],
   "source": [
    "df['EnvironmentSatisfaction'].value_counts()"
   ]
  },
  {
   "cell_type": "code",
   "execution_count": null,
   "id": "4efeec03",
   "metadata": {},
   "outputs": [],
   "source": [
    "mplt.figure(figsize=(40,30))\n",
    "(pd.crosstab(df['EnvironmentSatisfaction'],df['Attrition'],normalize='index')*100).plot(kind='bar')"
   ]
  },
  {
   "cell_type": "code",
   "execution_count": null,
   "id": "034edc15",
   "metadata": {},
   "outputs": [],
   "source": [
    "sns.countplot(x='EnvironmentSatisfaction',data=df,hue='Attrition')"
   ]
  },
  {
   "cell_type": "markdown",
   "id": "705022c7",
   "metadata": {},
   "source": [
    "### 12. Gender"
   ]
  },
  {
   "cell_type": "code",
   "execution_count": 39,
   "id": "87673629",
   "metadata": {},
   "outputs": [
    {
     "data": {
      "text/plain": [
       "Male      882\n",
       "Female    588\n",
       "Name: Gender, dtype: int64"
      ]
     },
     "execution_count": 39,
     "metadata": {},
     "output_type": "execute_result"
    }
   ],
   "source": [
    "df['Gender'].value_counts()"
   ]
  },
  {
   "cell_type": "code",
   "execution_count": null,
   "id": "c757341c",
   "metadata": {},
   "outputs": [],
   "source": [
    "mplt.figure(figsize=(40,30))\n",
    "(pd.crosstab(df['Gender'],df['Attrition'],normalize='index')*100).plot(kind='bar')"
   ]
  },
  {
   "cell_type": "code",
   "execution_count": null,
   "id": "42d920a7",
   "metadata": {},
   "outputs": [],
   "source": [
    "pd.crosstab(df['Gender'],df['Attrition'],normalize='index')*100"
   ]
  },
  {
   "cell_type": "code",
   "execution_count": null,
   "id": "31fc2598",
   "metadata": {},
   "outputs": [],
   "source": [
    "sns.countplot(x='Gender',data=df,hue='Attrition')"
   ]
  },
  {
   "cell_type": "markdown",
   "id": "6edb4cd3",
   "metadata": {},
   "source": [
    "### 13.HourlyRate"
   ]
  },
  {
   "cell_type": "code",
   "execution_count": 38,
   "id": "a5cd5088",
   "metadata": {},
   "outputs": [
    {
     "data": {
      "text/plain": [
       "[30,\n",
       " 31,\n",
       " 32,\n",
       " 33,\n",
       " 34,\n",
       " 35,\n",
       " 36,\n",
       " 37,\n",
       " 38,\n",
       " 39,\n",
       " 40,\n",
       " 41,\n",
       " 42,\n",
       " 43,\n",
       " 44,\n",
       " 45,\n",
       " 46,\n",
       " 47,\n",
       " 48,\n",
       " 49,\n",
       " 50,\n",
       " 51,\n",
       " 52,\n",
       " 53,\n",
       " 54,\n",
       " 55,\n",
       " 56,\n",
       " 57,\n",
       " 58,\n",
       " 59,\n",
       " 60,\n",
       " 61,\n",
       " 62,\n",
       " 63,\n",
       " 64,\n",
       " 65,\n",
       " 66,\n",
       " 67,\n",
       " 68,\n",
       " 69,\n",
       " 70,\n",
       " 71,\n",
       " 72,\n",
       " 73,\n",
       " 74,\n",
       " 75,\n",
       " 76,\n",
       " 77,\n",
       " 78,\n",
       " 79,\n",
       " 80,\n",
       " 81,\n",
       " 82,\n",
       " 83,\n",
       " 84,\n",
       " 85,\n",
       " 86,\n",
       " 87,\n",
       " 88,\n",
       " 89,\n",
       " 90,\n",
       " 91,\n",
       " 92,\n",
       " 93,\n",
       " 94,\n",
       " 95,\n",
       " 96,\n",
       " 97,\n",
       " 98,\n",
       " 99,\n",
       " 100]"
      ]
     },
     "execution_count": 38,
     "metadata": {},
     "output_type": "execute_result"
    }
   ],
   "source": [
    "sorted(df['HourlyRate'].unique())"
   ]
  },
  {
   "cell_type": "code",
   "execution_count": 37,
   "id": "07b56ee4",
   "metadata": {
    "scrolled": true
   },
   "outputs": [
    {
     "data": {
      "text/plain": [
       "66    29\n",
       "98    28\n",
       "42    28\n",
       "48    28\n",
       "84    28\n",
       "      ..\n",
       "31    15\n",
       "53    14\n",
       "68    14\n",
       "38    13\n",
       "34    12\n",
       "Name: HourlyRate, Length: 71, dtype: int64"
      ]
     },
     "execution_count": 37,
     "metadata": {},
     "output_type": "execute_result"
    }
   ],
   "source": [
    "df['HourlyRate'].value_counts()"
   ]
  },
  {
   "cell_type": "code",
   "execution_count": null,
   "id": "a0d6db57",
   "metadata": {},
   "outputs": [],
   "source": [
    "sns.boxplot(df['HourlyRate'])"
   ]
  },
  {
   "cell_type": "markdown",
   "id": "30120874",
   "metadata": {},
   "source": [
    "### 14.JobInvolvement"
   ]
  },
  {
   "cell_type": "code",
   "execution_count": 36,
   "id": "bdf0de1c",
   "metadata": {
    "scrolled": true
   },
   "outputs": [
    {
     "data": {
      "text/plain": [
       "3    868\n",
       "2    375\n",
       "4    144\n",
       "1     83\n",
       "Name: JobInvolvement, dtype: int64"
      ]
     },
     "execution_count": 36,
     "metadata": {},
     "output_type": "execute_result"
    }
   ],
   "source": [
    "df['JobInvolvement'].value_counts()"
   ]
  },
  {
   "cell_type": "code",
   "execution_count": null,
   "id": "e303e991",
   "metadata": {},
   "outputs": [],
   "source": [
    "mplt.figure(figsize=(40,30))\n",
    "(pd.crosstab(df['JobInvolvement'],df['Attrition'],normalize='index')*100).plot(kind='bar')"
   ]
  },
  {
   "cell_type": "markdown",
   "id": "ea04a0fe",
   "metadata": {},
   "source": [
    "### 15. JobLevel"
   ]
  },
  {
   "cell_type": "code",
   "execution_count": 34,
   "id": "e1dc32d9",
   "metadata": {},
   "outputs": [
    {
     "data": {
      "text/plain": [
       "1    543\n",
       "2    534\n",
       "3    218\n",
       "4    106\n",
       "5     69\n",
       "Name: JobLevel, dtype: int64"
      ]
     },
     "execution_count": 34,
     "metadata": {},
     "output_type": "execute_result"
    }
   ],
   "source": [
    "df['JobLevel'].value_counts()"
   ]
  },
  {
   "cell_type": "code",
   "execution_count": null,
   "id": "3c3f7c23",
   "metadata": {},
   "outputs": [],
   "source": [
    "mplt.figure(figsize=(40,30))\n",
    "(pd.crosstab(df['JobLevel'],df['Attrition'],normalize='index')*100).plot(kind='bar')"
   ]
  },
  {
   "cell_type": "markdown",
   "id": "3cd4a667",
   "metadata": {},
   "source": [
    "### 16. JobRole"
   ]
  },
  {
   "cell_type": "code",
   "execution_count": 33,
   "id": "cd403888",
   "metadata": {},
   "outputs": [
    {
     "data": {
      "text/plain": [
       "Sales Executive              326\n",
       "Research Scientist           292\n",
       "Laboratory Technician        259\n",
       "Manufacturing Director       145\n",
       "Healthcare Representative    131\n",
       "Manager                      102\n",
       "Sales Representative          83\n",
       "Research Director             80\n",
       "Human Resources               52\n",
       "Name: JobRole, dtype: int64"
      ]
     },
     "execution_count": 33,
     "metadata": {},
     "output_type": "execute_result"
    }
   ],
   "source": [
    "df['JobRole'].value_counts()"
   ]
  },
  {
   "cell_type": "code",
   "execution_count": null,
   "id": "fe691a0d",
   "metadata": {},
   "outputs": [],
   "source": [
    "mplt.figure(figsize=(40,30))\n",
    "(pd.crosstab(df['JobRole'],df['Attrition'],normalize='index')*100).plot(kind='bar')"
   ]
  },
  {
   "cell_type": "code",
   "execution_count": null,
   "id": "14524d87",
   "metadata": {},
   "outputs": [],
   "source": [
    "sns.countplot(x='JobRole',data=df,hue='Attrition',width=0.8)"
   ]
  },
  {
   "cell_type": "markdown",
   "id": "1b0ed468",
   "metadata": {},
   "source": [
    "### 16.JobSatisfaction"
   ]
  },
  {
   "cell_type": "code",
   "execution_count": 32,
   "id": "3d085d13",
   "metadata": {},
   "outputs": [
    {
     "data": {
      "text/plain": [
       "4    459\n",
       "3    442\n",
       "1    289\n",
       "2    280\n",
       "Name: JobSatisfaction, dtype: int64"
      ]
     },
     "execution_count": 32,
     "metadata": {},
     "output_type": "execute_result"
    }
   ],
   "source": [
    "df['JobSatisfaction'].value_counts()"
   ]
  },
  {
   "cell_type": "code",
   "execution_count": null,
   "id": "e81d7b5f",
   "metadata": {},
   "outputs": [],
   "source": [
    "mplt.figure(figsize=(40,30))\n",
    "(pd.crosstab(df['JobSatisfaction'],df['Attrition'],normalize='index')*100).plot(kind='bar')"
   ]
  },
  {
   "cell_type": "markdown",
   "id": "c2285954",
   "metadata": {},
   "source": [
    "### 17. MaritalStatus"
   ]
  },
  {
   "cell_type": "code",
   "execution_count": 31,
   "id": "5023393b",
   "metadata": {},
   "outputs": [
    {
     "data": {
      "text/plain": [
       "Married     673\n",
       "Single      470\n",
       "Divorced    327\n",
       "Name: MaritalStatus, dtype: int64"
      ]
     },
     "execution_count": 31,
     "metadata": {},
     "output_type": "execute_result"
    }
   ],
   "source": [
    "df['MaritalStatus'].value_counts()"
   ]
  },
  {
   "cell_type": "code",
   "execution_count": null,
   "id": "9ea2371a",
   "metadata": {},
   "outputs": [],
   "source": [
    "mplt.figure(figsize=(40,30))\n",
    "(pd.crosstab(df['MaritalStatus'],df['Attrition'],normalize='index')*100).plot(kind='bar')"
   ]
  },
  {
   "cell_type": "code",
   "execution_count": null,
   "id": "2cfae261",
   "metadata": {},
   "outputs": [],
   "source": [
    "sns.countplot(x='MaritalStatus',data=df,hue='Attrition')"
   ]
  },
  {
   "cell_type": "markdown",
   "id": "1688019f",
   "metadata": {},
   "source": [
    "### 18. MonthlyIncome"
   ]
  },
  {
   "cell_type": "code",
   "execution_count": 30,
   "id": "f90d9ac9",
   "metadata": {},
   "outputs": [
    {
     "data": {
      "text/plain": [
       "19999"
      ]
     },
     "execution_count": 30,
     "metadata": {},
     "output_type": "execute_result"
    }
   ],
   "source": [
    "df['MonthlyIncome'].max()"
   ]
  },
  {
   "cell_type": "code",
   "execution_count": null,
   "id": "8a5f90b9",
   "metadata": {
    "scrolled": true
   },
   "outputs": [],
   "source": [
    "sns.boxplot(df['MonthlyIncome'])"
   ]
  },
  {
   "cell_type": "code",
   "execution_count": null,
   "id": "cf329c38",
   "metadata": {
    "scrolled": true
   },
   "outputs": [],
   "source": [
    "sum(df['MonthlyIncome']>16000)"
   ]
  },
  {
   "cell_type": "code",
   "execution_count": null,
   "id": "8a8d18e8",
   "metadata": {},
   "outputs": [],
   "source": [
    "df[['MonthlyIncome']].boxplot()"
   ]
  },
  {
   "cell_type": "code",
   "execution_count": null,
   "id": "52144824",
   "metadata": {},
   "outputs": [],
   "source": [
    "df['MonthlyIncome']=np.where(df['MonthlyIncome']>15500,df['MonthlyIncome'].mean(),df['MonthlyIncome'])"
   ]
  },
  {
   "cell_type": "code",
   "execution_count": null,
   "id": "360dc565",
   "metadata": {},
   "outputs": [],
   "source": [
    "sns.boxplot(df['MonthlyIncome'])"
   ]
  },
  {
   "cell_type": "markdown",
   "id": "8a8042c9",
   "metadata": {},
   "source": [
    "### 19.MonthlyRate"
   ]
  },
  {
   "cell_type": "code",
   "execution_count": 26,
   "id": "29c199a3",
   "metadata": {},
   "outputs": [
    {
     "data": {
      "text/plain": [
       "<AxesSubplot: >"
      ]
     },
     "execution_count": 26,
     "metadata": {},
     "output_type": "execute_result"
    },
    {
     "data": {
      "image/png": "[encoded data removed]",
      "text/plain": [
       "<Figure size 640x480 with 1 Axes>"
      ]
     },
     "metadata": {},
     "output_type": "display_data"
    }
   ],
   "source": [
    "df['MonthlyRate'].plot()"
   ]
  },
  {
   "cell_type": "code",
   "execution_count": 25,
   "id": "3b99f225",
   "metadata": {
    "scrolled": true
   },
   "outputs": [
    {
     "data": {
      "text/plain": [
       "4223     3\n",
       "9150     3\n",
       "9558     2\n",
       "12858    2\n",
       "22074    2\n",
       "        ..\n",
       "14561    1\n",
       "2671     1\n",
       "5718     1\n",
       "11757    1\n",
       "10228    1\n",
       "Name: MonthlyRate, Length: 1427, dtype: int64"
      ]
     },
     "execution_count": 25,
     "metadata": {},
     "output_type": "execute_result"
    }
   ],
   "source": [
    "df['MonthlyRate'].value_counts()"
   ]
  },
  {
   "cell_type": "code",
   "execution_count": null,
   "id": "3125359e",
   "metadata": {},
   "outputs": [],
   "source": [
    "sns.boxplot(df['MonthlyRate'])"
   ]
  },
  {
   "cell_type": "markdown",
   "id": "f8bc9e0a",
   "metadata": {},
   "source": [
    "### 20.NumCompaniesWorked"
   ]
  },
  {
   "cell_type": "code",
   "execution_count": 24,
   "id": "c13ebdf7",
   "metadata": {},
   "outputs": [
    {
     "data": {
      "text/plain": [
       "[0, 1, 2, 3, 4, 5, 6, 7, 8, 9]"
      ]
     },
     "execution_count": 24,
     "metadata": {},
     "output_type": "execute_result"
    }
   ],
   "source": [
    "sorted(df.NumCompaniesWorked.unique())"
   ]
  },
  {
   "cell_type": "code",
   "execution_count": 23,
   "id": "e59c68c7",
   "metadata": {},
   "outputs": [
    {
     "data": {
      "text/plain": [
       "1    521\n",
       "0    197\n",
       "3    159\n",
       "2    146\n",
       "4    139\n",
       "7     74\n",
       "6     70\n",
       "5     63\n",
       "9     52\n",
       "8     49\n",
       "Name: NumCompaniesWorked, dtype: int64"
      ]
     },
     "execution_count": 23,
     "metadata": {},
     "output_type": "execute_result"
    }
   ],
   "source": [
    "df.NumCompaniesWorked.value_counts()"
   ]
  },
  {
   "cell_type": "code",
   "execution_count": null,
   "id": "9aa119ed",
   "metadata": {},
   "outputs": [],
   "source": [
    "mplt.figure(figsize=(40,30))\n",
    "(pd.crosstab(df['NumCompaniesWorked'],df['Attrition'],normalize='index')*100).plot(kind='bar')"
   ]
  },
  {
   "cell_type": "markdown",
   "id": "679686d4",
   "metadata": {},
   "source": [
    "### 21. Over18"
   ]
  },
  {
   "cell_type": "code",
   "execution_count": null,
   "id": "d9725bf8",
   "metadata": {
    "scrolled": false
   },
   "outputs": [],
   "source": [
    "df[df['Over18']=='N'].shape[0]"
   ]
  },
  {
   "cell_type": "markdown",
   "id": "4698c413",
   "metadata": {},
   "source": [
    "Since all employees are above 18 this feature can be excluded."
   ]
  },
  {
   "cell_type": "markdown",
   "id": "1ff01877",
   "metadata": {},
   "source": [
    "### 22. OverTime"
   ]
  },
  {
   "cell_type": "code",
   "execution_count": 22,
   "id": "eeddcd1f",
   "metadata": {},
   "outputs": [
    {
     "data": {
      "text/plain": [
       "No     1054\n",
       "Yes     416\n",
       "Name: OverTime, dtype: int64"
      ]
     },
     "execution_count": 22,
     "metadata": {},
     "output_type": "execute_result"
    }
   ],
   "source": [
    "df['OverTime'].value_counts()"
   ]
  },
  {
   "cell_type": "code",
   "execution_count": null,
   "id": "233cffed",
   "metadata": {},
   "outputs": [],
   "source": [
    "mplt.figure(figsize=(40,30))\n",
    "(pd.crosstab(df['OverTime'],df['Attrition'],normalize='index')*100).plot(kind='bar')"
   ]
  },
  {
   "cell_type": "code",
   "execution_count": null,
   "id": "6345e9b0",
   "metadata": {},
   "outputs": [],
   "source": [
    "sns.countplot(x='OverTime',data=df,hue='Attrition')"
   ]
  },
  {
   "cell_type": "markdown",
   "id": "748e3edf",
   "metadata": {},
   "source": [
    "### 23. PercentSalaryHike"
   ]
  },
  {
   "cell_type": "code",
   "execution_count": 21,
   "id": "128df38c",
   "metadata": {},
   "outputs": [
    {
     "data": {
      "text/plain": [
       "[11, 12, 13, 14, 15, 16, 17, 18, 19, 20, 21, 22, 23, 24, 25]"
      ]
     },
     "execution_count": 21,
     "metadata": {},
     "output_type": "execute_result"
    }
   ],
   "source": [
    "sorted(df['PercentSalaryHike'].unique())"
   ]
  },
  {
   "cell_type": "code",
   "execution_count": 20,
   "id": "0865293e",
   "metadata": {},
   "outputs": [
    {
     "data": {
      "text/plain": [
       "11    210\n",
       "13    209\n",
       "14    201\n",
       "12    198\n",
       "15    101\n",
       "18     89\n",
       "17     82\n",
       "16     78\n",
       "19     76\n",
       "22     56\n",
       "20     55\n",
       "21     48\n",
       "23     28\n",
       "24     21\n",
       "25     18\n",
       "Name: PercentSalaryHike, dtype: int64"
      ]
     },
     "execution_count": 20,
     "metadata": {},
     "output_type": "execute_result"
    }
   ],
   "source": [
    "df['PercentSalaryHike'].value_counts()"
   ]
  },
  {
   "cell_type": "code",
   "execution_count": null,
   "id": "2a912882",
   "metadata": {},
   "outputs": [],
   "source": [
    "mplt.figure(figsize=(40,30))\n",
    "(pd.crosstab(df['PercentSalaryHike'],df['Attrition'],normalize='index')*100).plot(kind='bar')"
   ]
  },
  {
   "cell_type": "markdown",
   "id": "7f6bc186",
   "metadata": {},
   "source": [
    "### 24. PerformanceRating"
   ]
  },
  {
   "cell_type": "code",
   "execution_count": 19,
   "id": "100e2c9a",
   "metadata": {},
   "outputs": [
    {
     "data": {
      "text/plain": [
       "array([3, 4], dtype=int64)"
      ]
     },
     "execution_count": 19,
     "metadata": {},
     "output_type": "execute_result"
    }
   ],
   "source": [
    "df['PerformanceRating'].unique()"
   ]
  },
  {
   "cell_type": "code",
   "execution_count": 17,
   "id": "04d964ae",
   "metadata": {},
   "outputs": [
    {
     "data": {
      "text/plain": [
       "3    1244\n",
       "4     226\n",
       "Name: PerformanceRating, dtype: int64"
      ]
     },
     "execution_count": 17,
     "metadata": {},
     "output_type": "execute_result"
    }
   ],
   "source": [
    "df['PerformanceRating'].value_counts()"
   ]
  },
  {
   "cell_type": "code",
   "execution_count": null,
   "id": "26830625",
   "metadata": {},
   "outputs": [],
   "source": [
    "mplt.figure(figsize=(40,30))\n",
    "(pd.crosstab(df['PerformanceRating'],df['Attrition'],normalize='index')*100).plot(kind='bar')"
   ]
  },
  {
   "cell_type": "code",
   "execution_count": null,
   "id": "57700d07",
   "metadata": {},
   "outputs": [],
   "source": [
    "sns.countplot(x='PerformanceRating',data=df,hue='Attrition')"
   ]
  },
  {
   "cell_type": "markdown",
   "id": "2709357c",
   "metadata": {},
   "source": [
    "### 25. RelationshipSatisfaction"
   ]
  },
  {
   "cell_type": "code",
   "execution_count": 16,
   "id": "6452919c",
   "metadata": {},
   "outputs": [
    {
     "data": {
      "text/plain": [
       "3    459\n",
       "4    432\n",
       "2    303\n",
       "1    276\n",
       "Name: RelationshipSatisfaction, dtype: int64"
      ]
     },
     "execution_count": 16,
     "metadata": {},
     "output_type": "execute_result"
    }
   ],
   "source": [
    "df['RelationshipSatisfaction'].value_counts()"
   ]
  },
  {
   "cell_type": "code",
   "execution_count": null,
   "id": "700898be",
   "metadata": {},
   "outputs": [],
   "source": [
    "mplt.figure(figsize=(40,30))\n",
    "(pd.crosstab(df['RelationshipSatisfaction'],df['Attrition'],normalize='index')*100).plot(kind='bar')"
   ]
  },
  {
   "cell_type": "markdown",
   "id": "09e1b421",
   "metadata": {},
   "source": [
    "### 26. StandardHours"
   ]
  },
  {
   "cell_type": "code",
   "execution_count": 15,
   "id": "c38bba6d",
   "metadata": {
    "scrolled": true
   },
   "outputs": [
    {
     "data": {
      "text/plain": [
       "80    1470\n",
       "Name: StandardHours, dtype: int64"
      ]
     },
     "execution_count": 15,
     "metadata": {},
     "output_type": "execute_result"
    }
   ],
   "source": [
    "df['StandardHours'].value_counts()"
   ]
  },
  {
   "cell_type": "markdown",
   "id": "307c219b",
   "metadata": {},
   "source": [
    "Since in this column all value are 80 it can be deleted."
   ]
  },
  {
   "cell_type": "markdown",
   "id": "f4b82955",
   "metadata": {},
   "source": [
    "### 27. StockOptionLevel"
   ]
  },
  {
   "cell_type": "code",
   "execution_count": 14,
   "id": "5b32d964",
   "metadata": {},
   "outputs": [
    {
     "data": {
      "text/plain": [
       "array([0, 1, 3, 2], dtype=int64)"
      ]
     },
     "execution_count": 14,
     "metadata": {},
     "output_type": "execute_result"
    }
   ],
   "source": [
    "df['StockOptionLevel'].unique()"
   ]
  },
  {
   "cell_type": "code",
   "execution_count": null,
   "id": "ac3c0a55",
   "metadata": {
    "scrolled": true
   },
   "outputs": [],
   "source": [
    "df['StockOptionLevel'].value_counts()"
   ]
  },
  {
   "cell_type": "code",
   "execution_count": null,
   "id": "6b5cf371",
   "metadata": {
    "scrolled": true
   },
   "outputs": [],
   "source": [
    "mplt.figure(figsize=(40,30))\n",
    "(pd.crosstab(df['StockOptionLevel'],df['Attrition'],normalize='index')*100).plot(kind='bar')"
   ]
  },
  {
   "cell_type": "markdown",
   "id": "cc353d1b",
   "metadata": {},
   "source": [
    "### 28. TotalWorkingYears"
   ]
  },
  {
   "cell_type": "code",
   "execution_count": 13,
   "id": "446476d9",
   "metadata": {},
   "outputs": [
    {
     "data": {
      "text/plain": [
       "[0,\n",
       " 1,\n",
       " 2,\n",
       " 3,\n",
       " 4,\n",
       " 5,\n",
       " 6,\n",
       " 7,\n",
       " 8,\n",
       " 9,\n",
       " 10,\n",
       " 11,\n",
       " 12,\n",
       " 13,\n",
       " 14,\n",
       " 15,\n",
       " 16,\n",
       " 17,\n",
       " 18,\n",
       " 19,\n",
       " 20,\n",
       " 21,\n",
       " 22,\n",
       " 23,\n",
       " 24,\n",
       " 25,\n",
       " 26,\n",
       " 27,\n",
       " 28,\n",
       " 29,\n",
       " 30,\n",
       " 31,\n",
       " 32,\n",
       " 33,\n",
       " 34,\n",
       " 35,\n",
       " 36,\n",
       " 37,\n",
       " 38,\n",
       " 40]"
      ]
     },
     "execution_count": 13,
     "metadata": {},
     "output_type": "execute_result"
    }
   ],
   "source": [
    "sorted(df['TotalWorkingYears'].unique())"
   ]
  },
  {
   "cell_type": "code",
   "execution_count": null,
   "id": "68306048",
   "metadata": {},
   "outputs": [],
   "source": [
    "df['TotalWorkingYears'].value_counts()"
   ]
  },
  {
   "cell_type": "code",
   "execution_count": null,
   "id": "c7ee63c0",
   "metadata": {},
   "outputs": [],
   "source": [
    "sns.boxplot(df['TotalWorkingYears'])"
   ]
  },
  {
   "cell_type": "code",
   "execution_count": null,
   "id": "8d2b79c8",
   "metadata": {},
   "outputs": [],
   "source": [
    "df[df['TotalWorkingYears']>28].shape"
   ]
  },
  {
   "cell_type": "code",
   "execution_count": null,
   "id": "68087b26",
   "metadata": {},
   "outputs": [],
   "source": [
    "df['TotalWorkingYears']=np.where(df['TotalWorkingYears']>28,df['TotalWorkingYears'].mean(),df['TotalWorkingYears'])"
   ]
  },
  {
   "cell_type": "code",
   "execution_count": null,
   "id": "b21fdd16",
   "metadata": {},
   "outputs": [],
   "source": [
    "sns.boxplot(df['TotalWorkingYears'])"
   ]
  },
  {
   "cell_type": "markdown",
   "id": "e7a82262",
   "metadata": {},
   "source": [
    "### 29. TrainingTimesLastYear"
   ]
  },
  {
   "cell_type": "code",
   "execution_count": 11,
   "id": "3c20760b",
   "metadata": {},
   "outputs": [
    {
     "data": {
      "text/plain": [
       "array([0, 3, 2, 5, 1, 4, 6], dtype=int64)"
      ]
     },
     "execution_count": 11,
     "metadata": {},
     "output_type": "execute_result"
    }
   ],
   "source": [
    "df['TrainingTimesLastYear'].unique()"
   ]
  },
  {
   "cell_type": "code",
   "execution_count": null,
   "id": "86de5106",
   "metadata": {},
   "outputs": [],
   "source": [
    "df['TrainingTimesLastYear'].value_counts()"
   ]
  },
  {
   "cell_type": "code",
   "execution_count": null,
   "id": "742da675",
   "metadata": {},
   "outputs": [],
   "source": [
    "mplt.figure(figsize=(40,30))\n",
    "(pd.crosstab(df['TrainingTimesLastYear'],df['Attrition'],normalize='index')*100).plot(kind='bar')"
   ]
  },
  {
   "cell_type": "code",
   "execution_count": null,
   "id": "4150f3e5",
   "metadata": {},
   "outputs": [],
   "source": [
    "sns.boxplot(df['TrainingTimesLastYear'])"
   ]
  },
  {
   "cell_type": "code",
   "execution_count": null,
   "id": "dd722a6d",
   "metadata": {},
   "outputs": [],
   "source": [
    "df['TrainingTimesLastYear']=np.where(~df['TrainingTimesLastYear'].between(1,4),df['TotalWorkingYears'].mean(),df['TotalWorkingYears'])"
   ]
  },
  {
   "cell_type": "code",
   "execution_count": null,
   "id": "c9c699e2",
   "metadata": {},
   "outputs": [],
   "source": [
    "sns.boxplot(df['TrainingTimesLastYear'])"
   ]
  },
  {
   "cell_type": "markdown",
   "id": "cb497dca",
   "metadata": {},
   "source": [
    "### 30. WorkLifeBalance"
   ]
  },
  {
   "cell_type": "code",
   "execution_count": 74,
   "id": "371fce02",
   "metadata": {},
   "outputs": [
    {
     "data": {
      "text/plain": [
       "<AxesSubplot: xlabel='WorkLifeBalance', ylabel='count'>"
      ]
     },
     "execution_count": 74,
     "metadata": {},
     "output_type": "execute_result"
    },
    {
     "data": {
      "image/png": "[encoded data removed]",
      "text/plain": [
       "<Figure size 640x480 with 1 Axes>"
      ]
     },
     "metadata": {},
     "output_type": "display_data"
    }
   ],
   "source": [
    "sns.countplot(x = dfy['WorkLifeBalance'], data = dfy)"
   ]
  },
  {
   "cell_type": "code",
   "execution_count": 10,
   "id": "b789b845",
   "metadata": {},
   "outputs": [
    {
     "data": {
      "text/plain": [
       "array([1, 3, 2, 4], dtype=int64)"
      ]
     },
     "execution_count": 10,
     "metadata": {},
     "output_type": "execute_result"
    }
   ],
   "source": [
    "df['WorkLifeBalance'].unique()"
   ]
  },
  {
   "cell_type": "code",
   "execution_count": null,
   "id": "f2a3f1a1",
   "metadata": {},
   "outputs": [],
   "source": [
    "df['WorkLifeBalance'].value_counts()"
   ]
  },
  {
   "cell_type": "code",
   "execution_count": null,
   "id": "646ae663",
   "metadata": {},
   "outputs": [],
   "source": [
    "mplt.figure(figsize=(40,30))\n",
    "(pd.crosstab(df['WorkLifeBalance'],df['Attrition'],normalize='index')*100).plot(kind='bar')"
   ]
  },
  {
   "cell_type": "markdown",
   "id": "4d433e1f",
   "metadata": {},
   "source": [
    "#### 1 and 4"
   ]
  },
  {
   "cell_type": "markdown",
   "id": "8b1a7b19",
   "metadata": {},
   "source": [
    "### 31. YearsAtCompany"
   ]
  },
  {
   "cell_type": "code",
   "execution_count": 73,
   "id": "f2e07a9e",
   "metadata": {},
   "outputs": [
    {
     "data": {
      "text/plain": [
       "<AxesSubplot: xlabel='YearsAtCompany', ylabel='count'>"
      ]
     },
     "execution_count": 73,
     "metadata": {},
     "output_type": "execute_result"
    },
    {
     "data": {
      "image/png": "[encoded data removed]",
      "text/plain": [
       "<Figure size 640x480 with 1 Axes>"
      ]
     },
     "metadata": {},
     "output_type": "display_data"
    }
   ],
   "source": [
    "sns.countplot(x = dfy['YearsAtCompany'], data = dfy)"
   ]
  },
  {
   "cell_type": "code",
   "execution_count": 9,
   "id": "7a9ac7e5",
   "metadata": {},
   "outputs": [
    {
     "data": {
      "text/plain": [
       "[0,\n",
       " 1,\n",
       " 2,\n",
       " 3,\n",
       " 4,\n",
       " 5,\n",
       " 6,\n",
       " 7,\n",
       " 8,\n",
       " 9,\n",
       " 10,\n",
       " 11,\n",
       " 12,\n",
       " 13,\n",
       " 14,\n",
       " 15,\n",
       " 16,\n",
       " 17,\n",
       " 18,\n",
       " 19,\n",
       " 20,\n",
       " 21,\n",
       " 22,\n",
       " 23,\n",
       " 24,\n",
       " 25,\n",
       " 26,\n",
       " 27,\n",
       " 29,\n",
       " 30,\n",
       " 31,\n",
       " 32,\n",
       " 33,\n",
       " 34,\n",
       " 36,\n",
       " 37,\n",
       " 40]"
      ]
     },
     "execution_count": 9,
     "metadata": {},
     "output_type": "execute_result"
    }
   ],
   "source": [
    "sorted(df['YearsAtCompany'].unique())"
   ]
  },
  {
   "cell_type": "code",
   "execution_count": null,
   "id": "b9c29cb8",
   "metadata": {},
   "outputs": [],
   "source": [
    "df['YearsAtCompany'].value_counts()"
   ]
  },
  {
   "cell_type": "code",
   "execution_count": null,
   "id": "a95545e7",
   "metadata": {},
   "outputs": [],
   "source": [
    "mplt.figure(figsize=(40,30))\n",
    "(pd.crosstab(df['YearsAtCompany'],df['Attrition'],normalize='index')*100).plot(kind='bar')"
   ]
  },
  {
   "cell_type": "markdown",
   "id": "48e262fa",
   "metadata": {},
   "source": [
    "### 32. YearsInCurrentRole"
   ]
  },
  {
   "cell_type": "code",
   "execution_count": 72,
   "id": "3e9246c7",
   "metadata": {},
   "outputs": [
    {
     "data": {
      "text/plain": [
       "<AxesSubplot: xlabel='YearsInCurrentRole', ylabel='count'>"
      ]
     },
     "execution_count": 72,
     "metadata": {},
     "output_type": "execute_result"
    },
    {
     "data": {
      "image/png": "[encoded data removed]",
      "text/plain": [
       "<Figure size 640x480 with 1 Axes>"
      ]
     },
     "metadata": {},
     "output_type": "display_data"
    }
   ],
   "source": [
    "sns.countplot(x = dfy['YearsInCurrentRole'], data = dfy)"
   ]
  },
  {
   "cell_type": "code",
   "execution_count": 7,
   "id": "1369b1e6",
   "metadata": {},
   "outputs": [
    {
     "data": {
      "text/plain": [
       "[0, 1, 2, 3, 4, 5, 6, 7, 8, 9, 10, 11, 12, 13, 14, 15, 16, 17, 18]"
      ]
     },
     "execution_count": 7,
     "metadata": {},
     "output_type": "execute_result"
    }
   ],
   "source": [
    "sorted(df['YearsInCurrentRole'].unique())"
   ]
  },
  {
   "cell_type": "code",
   "execution_count": null,
   "id": "e8bfd839",
   "metadata": {},
   "outputs": [],
   "source": [
    "df['YearsInCurrentRole'].nunique()"
   ]
  },
  {
   "cell_type": "code",
   "execution_count": null,
   "id": "4a46b87e",
   "metadata": {},
   "outputs": [],
   "source": [
    "df['YearsInCurrentRole'].value_counts()"
   ]
  },
  {
   "cell_type": "code",
   "execution_count": null,
   "id": "81e09995",
   "metadata": {},
   "outputs": [],
   "source": [
    "sns.boxplot(df['YearsInCurrentRole'])"
   ]
  },
  {
   "cell_type": "code",
   "execution_count": null,
   "id": "82fad23b",
   "metadata": {},
   "outputs": [],
   "source": [
    "df[df['YearsInCurrentRole']>13].shape"
   ]
  },
  {
   "cell_type": "code",
   "execution_count": null,
   "id": "78211cd5",
   "metadata": {},
   "outputs": [],
   "source": [
    "df['YearsInCurrentRole']=np.where(df['YearsInCurrentRole']>13,df['YearsInCurrentRole'].mean(),df['YearsInCurrentRole'])"
   ]
  },
  {
   "cell_type": "code",
   "execution_count": null,
   "id": "1e7a700b",
   "metadata": {},
   "outputs": [],
   "source": [
    "sns.boxplot(df['YearsInCurrentRole'])"
   ]
  },
  {
   "cell_type": "markdown",
   "id": "193faa61",
   "metadata": {},
   "source": [
    "### 33. YearsSinceLastPromotion"
   ]
  },
  {
   "cell_type": "code",
   "execution_count": 71,
   "id": "6bba3e93",
   "metadata": {},
   "outputs": [
    {
     "data": {
      "text/plain": [
       "<AxesSubplot: xlabel='YearsSinceLastPromotion', ylabel='count'>"
      ]
     },
     "execution_count": 71,
     "metadata": {},
     "output_type": "execute_result"
    },
    {
     "data": {
      "image/png": "[encoded data removed]",
      "text/plain": [
       "<Figure size 640x480 with 1 Axes>"
      ]
     },
     "metadata": {},
     "output_type": "display_data"
    }
   ],
   "source": [
    "sns.countplot(x = dfy['YearsSinceLastPromotion'], data = dfy)"
   ]
  },
  {
   "cell_type": "code",
   "execution_count": 4,
   "id": "17256f2b",
   "metadata": {},
   "outputs": [
    {
     "data": {
      "text/plain": [
       "16"
      ]
     },
     "execution_count": 4,
     "metadata": {},
     "output_type": "execute_result"
    }
   ],
   "source": [
    "df['YearsSinceLastPromotion'].nunique()"
   ]
  },
  {
   "cell_type": "code",
   "execution_count": 8,
   "id": "97e4d4da",
   "metadata": {},
   "outputs": [
    {
     "data": {
      "text/plain": [
       "[0, 1, 2, 3, 4, 5, 6, 7, 8, 9, 10, 11, 12, 13, 14, 15]"
      ]
     },
     "execution_count": 8,
     "metadata": {},
     "output_type": "execute_result"
    }
   ],
   "source": [
    "sorted(df['YearsSinceLastPromotion'].unique())"
   ]
  },
  {
   "cell_type": "code",
   "execution_count": null,
   "id": "b586c727",
   "metadata": {},
   "outputs": [],
   "source": [
    "df['YearsSinceLastPromotion'].value_counts()"
   ]
  },
  {
   "cell_type": "code",
   "execution_count": null,
   "id": "79e6ce9b",
   "metadata": {},
   "outputs": [],
   "source": [
    "mplt.figure(figsize=(40,30))\n",
    "(pd.crosstab(df['YearsSinceLastPromotion'],df['Attrition'],normalize='index')*100).plot(kind='bar')"
   ]
  },
  {
   "cell_type": "code",
   "execution_count": null,
   "id": "142f02aa",
   "metadata": {},
   "outputs": [],
   "source": [
    "sns.boxplot(df['YearsSinceLastPromotion'])"
   ]
  },
  {
   "cell_type": "code",
   "execution_count": null,
   "id": "e912d3dc",
   "metadata": {},
   "outputs": [],
   "source": [
    "df['YearsSinceLastPromotion']=np.where(df['YearsSinceLastPromotion']>6,df['YearsSinceLastPromotion'].mean(),df['YearsSinceLastPromotion'])"
   ]
  },
  {
   "cell_type": "code",
   "execution_count": null,
   "id": "aa78ab93",
   "metadata": {},
   "outputs": [],
   "source": [
    "sns.boxplot(df['YearsSinceLastPromotion'])"
   ]
  },
  {
   "cell_type": "markdown",
   "id": "9a765488",
   "metadata": {},
   "source": [
    "### 34. YearsWithCurrManager"
   ]
  },
  {
   "cell_type": "code",
   "execution_count": 70,
   "id": "93ac993d",
   "metadata": {},
   "outputs": [
    {
     "data": {
      "text/plain": [
       "<AxesSubplot: xlabel='YearsWithCurrManager', ylabel='count'>"
      ]
     },
     "execution_count": 70,
     "metadata": {},
     "output_type": "execute_result"
    },
    {
     "data": {
      "image/png": "[encoded data removed]",
      "text/plain": [
       "<Figure size 640x480 with 1 Axes>"
      ]
     },
     "metadata": {},
     "output_type": "display_data"
    }
   ],
   "source": [
    "sns.countplot(x = dfy['YearsWithCurrManager'], data = dfy)"
   ]
  },
  {
   "cell_type": "code",
   "execution_count": 64,
   "id": "443e16c8",
   "metadata": {},
   "outputs": [
    {
     "data": {
      "text/plain": [
       "13"
      ]
     },
     "execution_count": 64,
     "metadata": {},
     "output_type": "execute_result"
    }
   ],
   "source": [
    "len(dfy['YearsWithCurrManager'].unique())"
   ]
  },
  {
   "cell_type": "code",
   "execution_count": null,
   "id": "18d51d39",
   "metadata": {},
   "outputs": [],
   "source": [
    "df['YearsWithCurrManager'].unique()"
   ]
  },
  {
   "cell_type": "code",
   "execution_count": null,
   "id": "e2746782",
   "metadata": {
    "scrolled": true
   },
   "outputs": [],
   "source": [
    "df['YearsWithCurrManager'].value_counts()"
   ]
  },
  {
   "cell_type": "code",
   "execution_count": null,
   "id": "9ad0a658",
   "metadata": {},
   "outputs": [],
   "source": [
    "mplt.figure(figsize=(40,30))\n",
    "(pd.crosstab(df['YearsWithCurrManager'],df['Attrition'],normalize='index')*100).plot(kind='bar')"
   ]
  },
  {
   "cell_type": "code",
   "execution_count": null,
   "id": "4d12a20c",
   "metadata": {},
   "outputs": [],
   "source": [
    "sns.boxplot(df['YearsWithCurrManager'])"
   ]
  },
  {
   "cell_type": "code",
   "execution_count": null,
   "id": "166eb177",
   "metadata": {},
   "outputs": [],
   "source": [
    "df[df['YearsWithCurrManager']>13].shape"
   ]
  },
  {
   "cell_type": "code",
   "execution_count": null,
   "id": "6c635896",
   "metadata": {},
   "outputs": [],
   "source": [
    "df['YearsWithCurrManager']=np.where(df['YearsWithCurrManager']>13,df['YearsWithCurrManager'].mean(),df['YearsWithCurrManager'])"
   ]
  },
  {
   "cell_type": "code",
   "execution_count": null,
   "id": "1f3fc17d",
   "metadata": {},
   "outputs": [],
   "source": [
    "sns.boxplot(df['YearsWithCurrManager'])"
   ]
  },
  {
   "cell_type": "code",
   "execution_count": null,
   "id": "ef0c9b48",
   "metadata": {},
   "outputs": [],
   "source": [
    "sns.pairplot(df.iloc[::,0:5],hue='Attrition')"
   ]
  },
  {
   "cell_type": "code",
   "execution_count": null,
   "id": "b7db5fac",
   "metadata": {},
   "outputs": [],
   "source": [
    "df.iloc[::,0:5]"
   ]
  },
  {
   "cell_type": "code",
   "execution_count": null,
   "id": "e44b3025",
   "metadata": {},
   "outputs": [],
   "source": [
    "sns.pairplot(df,hue='Attrition')"
   ]
  },
  {
   "cell_type": "code",
   "execution_count": null,
   "id": "70df4e9f",
   "metadata": {},
   "outputs": [],
   "source": [
    "sns.pairplot(df.iloc[::,0:10],hue='Attrition')"
   ]
  },
  {
   "cell_type": "code",
   "execution_count": null,
   "id": "a553d3e4",
   "metadata": {},
   "outputs": [],
   "source": []
  },
  {
   "cell_type": "code",
   "execution_count": 60,
   "id": "41290267",
   "metadata": {},
   "outputs": [
    {
     "data": {
      "text/plain": [
       "<AxesSubplot: >"
      ]
     },
     "execution_count": 60,
     "metadata": {},
     "output_type": "execute_result"
    },
    {
     "data": {
      "image/png": "[encoded data removed]",
      "text/plain": [
       "<Figure size 640x480 with 2 Axes>"
      ]
     },
     "metadata": {},
     "output_type": "display_data"
    }
   ],
   "source": [
    "sns.heatmap(df.corr())"
   ]
  },
  {
   "cell_type": "code",
   "execution_count": null,
   "id": "8a39ecec",
   "metadata": {},
   "outputs": [],
   "source": []
  },
  {
   "cell_type": "code",
   "execution_count": null,
   "id": "bc1e1682",
   "metadata": {},
   "outputs": [],
   "source": []
  },
  {
   "cell_type": "code",
   "execution_count": null,
   "id": "9cad079b",
   "metadata": {},
   "outputs": [],
   "source": []
  },
  {
   "cell_type": "code",
   "execution_count": null,
   "id": "6af0726e",
   "metadata": {},
   "outputs": [],
   "source": []
  },
  {
   "cell_type": "code",
   "execution_count": null,
   "id": "55a237f1",
   "metadata": {},
   "outputs": [],
   "source": []
  },
  {
   "cell_type": "code",
   "execution_count": null,
   "id": "3883fe64",
   "metadata": {},
   "outputs": [],
   "source": []
  },
  {
   "cell_type": "code",
   "execution_count": null,
   "id": "d38863e3",
   "metadata": {},
   "outputs": [],
   "source": []
  }
 ],
 "metadata": {
  "kernelspec": {
   "display_name": "Python 3 (ipykernel)",
   "language": "python",
   "name": "python3"
  },
  "language_info": {
   "codemirror_mode": {
    "name": "ipython",
    "version": 3
   },
   "file_extension": ".py",
   "mimetype": "text/x-python",
   "name": "python",
   "nbconvert_exporter": "python",
   "pygments_lexer": "ipython3",
   "version": "3.10.7"
  }
 },
 "nbformat": 4,
 "nbformat_minor": 5
}
