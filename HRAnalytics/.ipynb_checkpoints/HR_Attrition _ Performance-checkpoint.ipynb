{
 "cells": [
  {
   "cell_type": "code",
   "execution_count": 4,
   "id": "f34cc47b",
   "metadata": {},
   "outputs": [],
   "source": [
    "import numpy as np\n",
    "import pandas as pd\n",
    "import warnings \n",
    "warnings.filterwarnings('ignore')\n",
    "\n"
   ]
  },
  {
   "cell_type": "code",
   "execution_count": null,
   "id": "5d817981",
   "metadata": {},
   "outputs": [],
   "source": [
    "import seaborn as sns\n",
    "import matplotlib.pyplot as mplt"
   ]
  },
  {
   "cell_type": "markdown",
   "id": "27d44569",
   "metadata": {},
   "source": [
    "## Problem Statement"
   ]
  },
  {
   "cell_type": "markdown",
   "id": "4724b093",
   "metadata": {},
   "source": [
    "We are try to analyse employee data and try to find possible reason for there attrition"
   ]
  },
  {
   "cell_type": "markdown",
   "id": "22f0c056",
   "metadata": {},
   "source": [
    "Attrition : Wether employee leaves the organisation or not."
   ]
  },
  {
   "cell_type": "markdown",
   "id": "1cd2d0fb",
   "metadata": {},
   "source": [
    "## Data Gathering"
   ]
  },
  {
   "cell_type": "code",
   "execution_count": null,
   "id": "ec2fd5d2",
   "metadata": {},
   "outputs": [],
   "source": [
    "df=pd.read_csv('HR_data.csv')"
   ]
  },
  {
   "cell_type": "code",
   "execution_count": null,
   "id": "76bc2714",
   "metadata": {},
   "outputs": [],
   "source": [
    "df.head()"
   ]
  },
  {
   "cell_type": "code",
   "execution_count": null,
   "id": "c8ed36e7",
   "metadata": {},
   "outputs": [],
   "source": [
    "df.info()"
   ]
  },
  {
   "cell_type": "code",
   "execution_count": null,
   "id": "4f1fab1b",
   "metadata": {},
   "outputs": [],
   "source": [
    "df.shape"
   ]
  },
  {
   "cell_type": "code",
   "execution_count": null,
   "id": "96ab2f84",
   "metadata": {},
   "outputs": [],
   "source": [
    "df.describe()"
   ]
  },
  {
   "cell_type": "code",
   "execution_count": null,
   "id": "80f22035",
   "metadata": {},
   "outputs": [],
   "source": []
  },
  {
   "cell_type": "markdown",
   "id": "b8106c83",
   "metadata": {},
   "source": [
    "## EDA"
   ]
  },
  {
   "cell_type": "markdown",
   "id": "4b23bb2f",
   "metadata": {},
   "source": [
    "### 1.Age"
   ]
  },
  {
   "cell_type": "code",
   "execution_count": null,
   "id": "e379f764",
   "metadata": {},
   "outputs": [],
   "source": [
    "df['Age'].isna().value_counts()"
   ]
  },
  {
   "cell_type": "code",
   "execution_count": null,
   "id": "f9c9fa52",
   "metadata": {},
   "outputs": [],
   "source": [
    "print(min(df['Age']))\n",
    "print(max(df['Age']))"
   ]
  },
  {
   "cell_type": "code",
   "execution_count": null,
   "id": "c72ca5b7",
   "metadata": {
    "scrolled": false
   },
   "outputs": [],
   "source": [
    "sns.boxplot(df['Age'])"
   ]
  },
  {
   "cell_type": "code",
   "execution_count": null,
   "id": "1e8f9353",
   "metadata": {},
   "outputs": [],
   "source": [
    "mplt.figure(figsize=(10,6))\n",
    "sns.countplot(x='Age',data=df,hue='Attrition')"
   ]
  },
  {
   "cell_type": "code",
   "execution_count": null,
   "id": "eda79212",
   "metadata": {},
   "outputs": [],
   "source": [
    "sns.kdeplot(data=df,x=df.Age,hue='Attrition')"
   ]
  },
  {
   "cell_type": "markdown",
   "id": "322f7991",
   "metadata": {},
   "source": [
    "### 2.Attrition"
   ]
  },
  {
   "cell_type": "code",
   "execution_count": null,
   "id": "8c77590b",
   "metadata": {},
   "outputs": [],
   "source": [
    "df['Attrition'].value_counts()"
   ]
  },
  {
   "cell_type": "code",
   "execution_count": null,
   "id": "54aced70",
   "metadata": {},
   "outputs": [],
   "source": [
    "sns.countplot(x='Attrition',data=df)"
   ]
  },
  {
   "cell_type": "markdown",
   "id": "2032ac48",
   "metadata": {},
   "source": [
    "### 3.BusinessTravel"
   ]
  },
  {
   "cell_type": "code",
   "execution_count": null,
   "id": "7da06601",
   "metadata": {
    "scrolled": true
   },
   "outputs": [],
   "source": [
    "df['BusinessTravel'].value_counts()"
   ]
  },
  {
   "cell_type": "code",
   "execution_count": null,
   "id": "b9bc4723",
   "metadata": {},
   "outputs": [],
   "source": [
    "df.iloc[::,1:3]"
   ]
  },
  {
   "cell_type": "code",
   "execution_count": null,
   "id": "ac370b29",
   "metadata": {},
   "outputs": [],
   "source": [
    "sns.countplot(x='BusinessTravel',data=df,hue='Attrition')"
   ]
  },
  {
   "cell_type": "markdown",
   "id": "3a4c5b73",
   "metadata": {},
   "source": [
    "### Travel_Frequently having higher possiblility of attrition"
   ]
  },
  {
   "cell_type": "markdown",
   "id": "efe9db2a",
   "metadata": {},
   "source": [
    "### 4.DailyRate"
   ]
  },
  {
   "cell_type": "code",
   "execution_count": null,
   "id": "68b84932",
   "metadata": {},
   "outputs": [],
   "source": [
    "df['DailyRate'].value_counts()"
   ]
  },
  {
   "cell_type": "code",
   "execution_count": null,
   "id": "74069149",
   "metadata": {},
   "outputs": [],
   "source": [
    "sns.boxplot(df['DailyRate'])"
   ]
  },
  {
   "cell_type": "code",
   "execution_count": null,
   "id": "7c1d80f8",
   "metadata": {},
   "outputs": [],
   "source": [
    "sns.violinplot(x=df['DailyRate'],y=df['Attrition'])"
   ]
  },
  {
   "cell_type": "markdown",
   "id": "3a2e8998",
   "metadata": {},
   "source": [
    "### 5.Department "
   ]
  },
  {
   "cell_type": "code",
   "execution_count": null,
   "id": "8219653a",
   "metadata": {},
   "outputs": [],
   "source": [
    "df['Department'].value_counts()"
   ]
  },
  {
   "cell_type": "code",
   "execution_count": null,
   "id": "b09a63a3",
   "metadata": {},
   "outputs": [],
   "source": [
    "pd.crosstab(df['Department'],df['Attrition'])"
   ]
  },
  {
   "cell_type": "code",
   "execution_count": null,
   "id": "46b990d4",
   "metadata": {},
   "outputs": [],
   "source": [
    "pd.crosstab(df['Department'],df['Attrition'],normalize='index')*100"
   ]
  },
  {
   "cell_type": "code",
   "execution_count": null,
   "id": "f28891a7",
   "metadata": {},
   "outputs": [],
   "source": [
    "(pd.crosstab(df['Department'],df['Attrition'],normalize='index')*100).plot(kind='bar')"
   ]
  },
  {
   "cell_type": "code",
   "execution_count": null,
   "id": "c240c941",
   "metadata": {},
   "outputs": [],
   "source": [
    "df['Department'].value_counts(normalize=True).plot(kind='pie', autopct = '%1.2f%%')"
   ]
  },
  {
   "cell_type": "code",
   "execution_count": null,
   "id": "ff8a3007",
   "metadata": {},
   "outputs": [],
   "source": [
    "sns.countplot(x='Department',data=df,hue='Attrition')"
   ]
  },
  {
   "cell_type": "markdown",
   "id": "252e3a8d",
   "metadata": {},
   "source": [
    "### HR and sales higher possiblility for attrition"
   ]
  },
  {
   "cell_type": "markdown",
   "id": "714d7b5f",
   "metadata": {},
   "source": [
    "### 6.DistanceFromHome"
   ]
  },
  {
   "cell_type": "code",
   "execution_count": null,
   "id": "e5628196",
   "metadata": {},
   "outputs": [],
   "source": [
    "df['DistanceFromHome'].value_counts()"
   ]
  },
  {
   "cell_type": "code",
   "execution_count": null,
   "id": "f62baa86",
   "metadata": {},
   "outputs": [],
   "source": [
    "pd.crosstab(df['DistanceFromHome'],df['Attrition'],normalize='index')*100"
   ]
  },
  {
   "cell_type": "code",
   "execution_count": null,
   "id": "d0319370",
   "metadata": {},
   "outputs": [],
   "source": [
    "mplt.figure(figsize=(40,30))\n",
    "(pd.crosstab(df['DistanceFromHome'],df['Attrition'],normalize='index')*100).plot(kind='bar')"
   ]
  },
  {
   "cell_type": "code",
   "execution_count": null,
   "id": "9020a33d",
   "metadata": {},
   "outputs": [],
   "source": [
    "sns.boxplot(df['DistanceFromHome'])"
   ]
  },
  {
   "cell_type": "markdown",
   "id": "d2403291",
   "metadata": {},
   "source": [
    "### 7.Education"
   ]
  },
  {
   "cell_type": "code",
   "execution_count": null,
   "id": "5489611a",
   "metadata": {},
   "outputs": [],
   "source": [
    "df['Education'].value_counts()"
   ]
  },
  {
   "cell_type": "code",
   "execution_count": null,
   "id": "fe1c53a1",
   "metadata": {},
   "outputs": [],
   "source": [
    "sns.countplot(x='Education',data=df,hue='Attrition')"
   ]
  },
  {
   "cell_type": "code",
   "execution_count": null,
   "id": "75c78ca9",
   "metadata": {},
   "outputs": [],
   "source": [
    "mplt.figure(figsize=(40,30))\n",
    "(pd.crosstab(df['Education'],df['Attrition'],normalize='index')*100).plot(kind='bar')"
   ]
  },
  {
   "cell_type": "markdown",
   "id": "e7e4b865",
   "metadata": {},
   "source": [
    "### 8.EducationField"
   ]
  },
  {
   "cell_type": "code",
   "execution_count": null,
   "id": "7a45ed84",
   "metadata": {},
   "outputs": [],
   "source": [
    "df['EducationField'].value_counts()"
   ]
  },
  {
   "cell_type": "code",
   "execution_count": null,
   "id": "ae61e1e5",
   "metadata": {},
   "outputs": [],
   "source": [
    "mplt.figure(figsize=(40,30))\n",
    "(pd.crosstab(df['EducationField'],df['Attrition'],normalize='index')*100).plot(kind='bar')"
   ]
  },
  {
   "cell_type": "markdown",
   "id": "c49026d7",
   "metadata": {},
   "source": [
    "#### HR ,Marketing and Technical"
   ]
  },
  {
   "cell_type": "markdown",
   "id": "05f9a5f2",
   "metadata": {},
   "source": [
    "### 9.EmployeeCount"
   ]
  },
  {
   "cell_type": "code",
   "execution_count": null,
   "id": "58e52bcb",
   "metadata": {},
   "outputs": [],
   "source": [
    "df['EmployeeCount'].value_counts()"
   ]
  },
  {
   "cell_type": "markdown",
   "id": "1b41e95a",
   "metadata": {},
   "source": [
    "#### This is feature excluded"
   ]
  },
  {
   "cell_type": "markdown",
   "id": "901d6dc1",
   "metadata": {},
   "source": [
    "### 10.EmployeeNumber"
   ]
  },
  {
   "cell_type": "code",
   "execution_count": null,
   "id": "9500c86a",
   "metadata": {},
   "outputs": [],
   "source": [
    "df['EmployeeNumber'].value_counts()"
   ]
  },
  {
   "cell_type": "markdown",
   "id": "e1363e47",
   "metadata": {},
   "source": [
    "#### This feature excluded"
   ]
  },
  {
   "cell_type": "code",
   "execution_count": null,
   "id": "40bd2e18",
   "metadata": {},
   "outputs": [],
   "source": [
    "df.head()"
   ]
  },
  {
   "cell_type": "markdown",
   "id": "4e50559d",
   "metadata": {},
   "source": [
    "### 11.EnvironmentSatisfaction"
   ]
  },
  {
   "cell_type": "code",
   "execution_count": null,
   "id": "9ae6261c",
   "metadata": {
    "scrolled": true
   },
   "outputs": [],
   "source": [
    "df['EnvironmentSatisfaction'].value_counts()"
   ]
  },
  {
   "cell_type": "code",
   "execution_count": null,
   "id": "4efeec03",
   "metadata": {},
   "outputs": [],
   "source": [
    "mplt.figure(figsize=(40,30))\n",
    "(pd.crosstab(df['EnvironmentSatisfaction'],df['Attrition'],normalize='index')*100).plot(kind='bar')"
   ]
  },
  {
   "cell_type": "code",
   "execution_count": null,
   "id": "034edc15",
   "metadata": {},
   "outputs": [],
   "source": [
    "sns.countplot(x='EnvironmentSatisfaction',data=df,hue='Attrition')"
   ]
  },
  {
   "cell_type": "markdown",
   "id": "705022c7",
   "metadata": {},
   "source": [
    "### 12. Gender"
   ]
  },
  {
   "cell_type": "code",
   "execution_count": null,
   "id": "87673629",
   "metadata": {},
   "outputs": [],
   "source": [
    "df['Gender'].value_counts()"
   ]
  },
  {
   "cell_type": "code",
   "execution_count": null,
   "id": "c757341c",
   "metadata": {},
   "outputs": [],
   "source": [
    "mplt.figure(figsize=(40,30))\n",
    "(pd.crosstab(df['Gender'],df['Attrition'],normalize='index')*100).plot(kind='bar')"
   ]
  },
  {
   "cell_type": "code",
   "execution_count": null,
   "id": "42d920a7",
   "metadata": {},
   "outputs": [],
   "source": [
    "pd.crosstab(df['Gender'],df['Attrition'],normalize='index')*100"
   ]
  },
  {
   "cell_type": "code",
   "execution_count": null,
   "id": "31fc2598",
   "metadata": {},
   "outputs": [],
   "source": [
    "sns.countplot(x='Gender',data=df,hue='Attrition')"
   ]
  },
  {
   "cell_type": "markdown",
   "id": "6edb4cd3",
   "metadata": {},
   "source": [
    "### 13.HourlyRate"
   ]
  },
  {
   "cell_type": "code",
   "execution_count": null,
   "id": "07b56ee4",
   "metadata": {},
   "outputs": [],
   "source": [
    "df['HourlyRate'].value_counts()"
   ]
  },
  {
   "cell_type": "code",
   "execution_count": null,
   "id": "a0d6db57",
   "metadata": {},
   "outputs": [],
   "source": [
    "sns.boxplot(df['HourlyRate'])"
   ]
  },
  {
   "cell_type": "markdown",
   "id": "30120874",
   "metadata": {},
   "source": [
    "### 14.JobInvolvement"
   ]
  },
  {
   "cell_type": "code",
   "execution_count": null,
   "id": "bdf0de1c",
   "metadata": {},
   "outputs": [],
   "source": [
    "df['JobInvolvement'].value_counts()"
   ]
  },
  {
   "cell_type": "code",
   "execution_count": null,
   "id": "e303e991",
   "metadata": {},
   "outputs": [],
   "source": [
    "mplt.figure(figsize=(40,30))\n",
    "(pd.crosstab(df['JobInvolvement'],df['Attrition'],normalize='index')*100).plot(kind='bar')"
   ]
  },
  {
   "cell_type": "markdown",
   "id": "ea04a0fe",
   "metadata": {},
   "source": [
    "### 15. JobLevel"
   ]
  },
  {
   "cell_type": "code",
   "execution_count": null,
   "id": "e1dc32d9",
   "metadata": {},
   "outputs": [],
   "source": [
    "df['JobLevel'].value_counts()"
   ]
  },
  {
   "cell_type": "code",
   "execution_count": null,
   "id": "3c3f7c23",
   "metadata": {},
   "outputs": [],
   "source": [
    "mplt.figure(figsize=(40,30))\n",
    "(pd.crosstab(df['JobLevel'],df['Attrition'],normalize='index')*100).plot(kind='bar')"
   ]
  },
  {
   "cell_type": "markdown",
   "id": "3cd4a667",
   "metadata": {},
   "source": [
    "### 16. JobRole"
   ]
  },
  {
   "cell_type": "code",
   "execution_count": null,
   "id": "cd403888",
   "metadata": {},
   "outputs": [],
   "source": [
    "df['JobRole'].value_counts()"
   ]
  },
  {
   "cell_type": "code",
   "execution_count": null,
   "id": "fe691a0d",
   "metadata": {},
   "outputs": [],
   "source": [
    "mplt.figure(figsize=(40,30))\n",
    "(pd.crosstab(df['JobRole'],df['Attrition'],normalize='index')*100).plot(kind='bar')"
   ]
  },
  {
   "cell_type": "code",
   "execution_count": null,
   "id": "14524d87",
   "metadata": {},
   "outputs": [],
   "source": [
    "sns.countplot(x='JobRole',data=df,hue='Attrition',width=0.8)"
   ]
  },
  {
   "cell_type": "markdown",
   "id": "1b0ed468",
   "metadata": {},
   "source": [
    "### 16.JobSatisfaction"
   ]
  },
  {
   "cell_type": "code",
   "execution_count": null,
   "id": "3d085d13",
   "metadata": {},
   "outputs": [],
   "source": [
    "df['JobSatisfaction'].value_counts()"
   ]
  },
  {
   "cell_type": "code",
   "execution_count": null,
   "id": "e81d7b5f",
   "metadata": {},
   "outputs": [],
   "source": [
    "mplt.figure(figsize=(40,30))\n",
    "(pd.crosstab(df['JobSatisfaction'],df['Attrition'],normalize='index')*100).plot(kind='bar')"
   ]
  },
  {
   "cell_type": "markdown",
   "id": "c2285954",
   "metadata": {},
   "source": [
    "### 17. MaritalStatus"
   ]
  },
  {
   "cell_type": "code",
   "execution_count": null,
   "id": "5023393b",
   "metadata": {},
   "outputs": [],
   "source": [
    "df['MaritalStatus'].value_counts()"
   ]
  },
  {
   "cell_type": "code",
   "execution_count": null,
   "id": "9ea2371a",
   "metadata": {},
   "outputs": [],
   "source": [
    "mplt.figure(figsize=(40,30))\n",
    "(pd.crosstab(df['MaritalStatus'],df['Attrition'],normalize='index')*100).plot(kind='bar')"
   ]
  },
  {
   "cell_type": "code",
   "execution_count": null,
   "id": "2cfae261",
   "metadata": {},
   "outputs": [],
   "source": [
    "sns.countplot(x='MaritalStatus',data=df,hue='Attrition')"
   ]
  },
  {
   "cell_type": "markdown",
   "id": "1688019f",
   "metadata": {},
   "source": [
    "### 18. MonthlyIncome"
   ]
  },
  {
   "cell_type": "code",
   "execution_count": null,
   "id": "8a5f90b9",
   "metadata": {
    "scrolled": true
   },
   "outputs": [],
   "source": [
    "sns.boxplot(df['MonthlyIncome'])"
   ]
  },
  {
   "cell_type": "code",
   "execution_count": null,
   "id": "cf329c38",
   "metadata": {
    "scrolled": true
   },
   "outputs": [],
   "source": [
    "sum(df['MonthlyIncome']>16000)"
   ]
  },
  {
   "cell_type": "code",
   "execution_count": null,
   "id": "8a8d18e8",
   "metadata": {},
   "outputs": [],
   "source": [
    "df[['MonthlyIncome']].boxplot()"
   ]
  },
  {
   "cell_type": "code",
   "execution_count": null,
   "id": "52144824",
   "metadata": {},
   "outputs": [],
   "source": [
    "df['MonthlyIncome']=np.where(df['MonthlyIncome']>15500,df['MonthlyIncome'].mean(),df['MonthlyIncome'])"
   ]
  },
  {
   "cell_type": "code",
   "execution_count": null,
   "id": "360dc565",
   "metadata": {},
   "outputs": [],
   "source": [
    "sns.boxplot(df['MonthlyIncome'])"
   ]
  },
  {
   "cell_type": "markdown",
   "id": "8a8042c9",
   "metadata": {},
   "source": [
    "### 19.MonthlyRate"
   ]
  },
  {
   "cell_type": "code",
   "execution_count": null,
   "id": "3b99f225",
   "metadata": {},
   "outputs": [],
   "source": [
    "df['MonthlyRate'].value_counts()"
   ]
  },
  {
   "cell_type": "code",
   "execution_count": null,
   "id": "3125359e",
   "metadata": {},
   "outputs": [],
   "source": [
    "sns.boxplot(df['MonthlyRate'])"
   ]
  },
  {
   "cell_type": "markdown",
   "id": "f8bc9e0a",
   "metadata": {},
   "source": [
    "### 20.NumCompaniesWorked"
   ]
  },
  {
   "cell_type": "code",
   "execution_count": null,
   "id": "e59c68c7",
   "metadata": {},
   "outputs": [],
   "source": [
    "df.NumCompaniesWorked.value_counts()"
   ]
  },
  {
   "cell_type": "code",
   "execution_count": null,
   "id": "9aa119ed",
   "metadata": {},
   "outputs": [],
   "source": [
    "mplt.figure(figsize=(40,30))\n",
    "(pd.crosstab(df['NumCompaniesWorked'],df['Attrition'],normalize='index')*100).plot(kind='bar')"
   ]
  },
  {
   "cell_type": "markdown",
   "id": "679686d4",
   "metadata": {},
   "source": [
    "### 21. Over18"
   ]
  },
  {
   "cell_type": "code",
   "execution_count": null,
   "id": "d9725bf8",
   "metadata": {
    "scrolled": false
   },
   "outputs": [],
   "source": [
    "df[df['Over18']=='N'].shape[0]"
   ]
  },
  {
   "cell_type": "markdown",
   "id": "4698c413",
   "metadata": {},
   "source": [
    "Since all employees are above 18 this feature can be excluded."
   ]
  },
  {
   "cell_type": "markdown",
   "id": "1ff01877",
   "metadata": {},
   "source": [
    "### 22. OverTime"
   ]
  },
  {
   "cell_type": "code",
   "execution_count": null,
   "id": "eeddcd1f",
   "metadata": {},
   "outputs": [],
   "source": [
    "df['OverTime'].value_counts()"
   ]
  },
  {
   "cell_type": "code",
   "execution_count": null,
   "id": "233cffed",
   "metadata": {},
   "outputs": [],
   "source": [
    "mplt.figure(figsize=(40,30))\n",
    "(pd.crosstab(df['OverTime'],df['Attrition'],normalize='index')*100).plot(kind='bar')"
   ]
  },
  {
   "cell_type": "code",
   "execution_count": null,
   "id": "6345e9b0",
   "metadata": {},
   "outputs": [],
   "source": [
    "sns.countplot(x='OverTime',data=df,hue='Attrition')"
   ]
  },
  {
   "cell_type": "markdown",
   "id": "748e3edf",
   "metadata": {},
   "source": [
    "### 23. PercentSalaryHike"
   ]
  },
  {
   "cell_type": "code",
   "execution_count": null,
   "id": "0865293e",
   "metadata": {},
   "outputs": [],
   "source": [
    "df['PercentSalaryHike'].value_counts()"
   ]
  },
  {
   "cell_type": "code",
   "execution_count": null,
   "id": "2a912882",
   "metadata": {},
   "outputs": [],
   "source": [
    "mplt.figure(figsize=(40,30))\n",
    "(pd.crosstab(df['PercentSalaryHike'],df['Attrition'],normalize='index')*100).plot(kind='bar')"
   ]
  },
  {
   "cell_type": "markdown",
   "id": "7f6bc186",
   "metadata": {},
   "source": [
    "### 24. PerformanceRating"
   ]
  },
  {
   "cell_type": "code",
   "execution_count": null,
   "id": "04d964ae",
   "metadata": {},
   "outputs": [],
   "source": [
    "df['PerformanceRating'].value_counts()"
   ]
  },
  {
   "cell_type": "code",
   "execution_count": null,
   "id": "26830625",
   "metadata": {},
   "outputs": [],
   "source": [
    "mplt.figure(figsize=(40,30))\n",
    "(pd.crosstab(df['PerformanceRating'],df['Attrition'],normalize='index')*100).plot(kind='bar')"
   ]
  },
  {
   "cell_type": "code",
   "execution_count": null,
   "id": "57700d07",
   "metadata": {},
   "outputs": [],
   "source": [
    "sns.countplot(x='PerformanceRating',data=df,hue='Attrition')"
   ]
  },
  {
   "cell_type": "markdown",
   "id": "2709357c",
   "metadata": {},
   "source": [
    "### 25. RelationshipSatisfaction"
   ]
  },
  {
   "cell_type": "code",
   "execution_count": null,
   "id": "6452919c",
   "metadata": {},
   "outputs": [],
   "source": [
    "df['RelationshipSatisfaction'].value_counts()"
   ]
  },
  {
   "cell_type": "code",
   "execution_count": null,
   "id": "700898be",
   "metadata": {},
   "outputs": [],
   "source": [
    "mplt.figure(figsize=(40,30))\n",
    "(pd.crosstab(df['RelationshipSatisfaction'],df['Attrition'],normalize='index')*100).plot(kind='bar')"
   ]
  },
  {
   "cell_type": "markdown",
   "id": "09e1b421",
   "metadata": {},
   "source": [
    "### 26. StandardHours"
   ]
  },
  {
   "cell_type": "code",
   "execution_count": null,
   "id": "c38bba6d",
   "metadata": {
    "scrolled": true
   },
   "outputs": [],
   "source": [
    "df['StandardHours'].value_counts()"
   ]
  },
  {
   "cell_type": "markdown",
   "id": "307c219b",
   "metadata": {},
   "source": [
    "Since in this column all value are 80 it can be deleted."
   ]
  },
  {
   "cell_type": "markdown",
   "id": "f4b82955",
   "metadata": {},
   "source": [
    "### 27. StockOptionLevel"
   ]
  },
  {
   "cell_type": "code",
   "execution_count": null,
   "id": "ac3c0a55",
   "metadata": {
    "scrolled": true
   },
   "outputs": [],
   "source": [
    "df['StockOptionLevel'].value_counts()"
   ]
  },
  {
   "cell_type": "code",
   "execution_count": null,
   "id": "6b5cf371",
   "metadata": {
    "scrolled": true
   },
   "outputs": [],
   "source": [
    "mplt.figure(figsize=(40,30))\n",
    "(pd.crosstab(df['StockOptionLevel'],df['Attrition'],normalize='index')*100).plot(kind='bar')"
   ]
  },
  {
   "cell_type": "markdown",
   "id": "cc353d1b",
   "metadata": {},
   "source": [
    "### 28. TotalWorkingYears"
   ]
  },
  {
   "cell_type": "code",
   "execution_count": null,
   "id": "68306048",
   "metadata": {},
   "outputs": [],
   "source": [
    "df['TotalWorkingYears'].value_counts()"
   ]
  },
  {
   "cell_type": "code",
   "execution_count": null,
   "id": "c7ee63c0",
   "metadata": {},
   "outputs": [],
   "source": [
    "sns.boxplot(df['TotalWorkingYears'])"
   ]
  },
  {
   "cell_type": "code",
   "execution_count": null,
   "id": "8d2b79c8",
   "metadata": {},
   "outputs": [],
   "source": [
    "df[df['TotalWorkingYears']>28].shape"
   ]
  },
  {
   "cell_type": "code",
   "execution_count": null,
   "id": "68087b26",
   "metadata": {},
   "outputs": [],
   "source": [
    "df['TotalWorkingYears']=np.where(df['TotalWorkingYears']>28,df['TotalWorkingYears'].mean(),df['TotalWorkingYears'])"
   ]
  },
  {
   "cell_type": "code",
   "execution_count": null,
   "id": "b21fdd16",
   "metadata": {},
   "outputs": [],
   "source": [
    "sns.boxplot(df['TotalWorkingYears'])"
   ]
  },
  {
   "cell_type": "markdown",
   "id": "e7a82262",
   "metadata": {},
   "source": [
    "### 29. TrainingTimesLastYear"
   ]
  },
  {
   "cell_type": "code",
   "execution_count": null,
   "id": "86de5106",
   "metadata": {},
   "outputs": [],
   "source": [
    "df['TrainingTimesLastYear'].value_counts()"
   ]
  },
  {
   "cell_type": "code",
   "execution_count": null,
   "id": "742da675",
   "metadata": {},
   "outputs": [],
   "source": [
    "mplt.figure(figsize=(40,30))\n",
    "(pd.crosstab(df['TrainingTimesLastYear'],df['Attrition'],normalize='index')*100).plot(kind='bar')"
   ]
  },
  {
   "cell_type": "code",
   "execution_count": null,
   "id": "4150f3e5",
   "metadata": {},
   "outputs": [],
   "source": [
    "sns.boxplot(df['TrainingTimesLastYear'])"
   ]
  },
  {
   "cell_type": "code",
   "execution_count": null,
   "id": "dd722a6d",
   "metadata": {},
   "outputs": [],
   "source": [
    "df['TrainingTimesLastYear']=np.where(~df['TrainingTimesLastYear'].between(1,4),df['TotalWorkingYears'].mean(),df['TotalWorkingYears'])"
   ]
  },
  {
   "cell_type": "code",
   "execution_count": null,
   "id": "c9c699e2",
   "metadata": {},
   "outputs": [],
   "source": [
    "sns.boxplot(df['TrainingTimesLastYear'])"
   ]
  },
  {
   "cell_type": "markdown",
   "id": "cb497dca",
   "metadata": {},
   "source": [
    "### 30. WorkLifeBalance"
   ]
  },
  {
   "cell_type": "code",
   "execution_count": null,
   "id": "f2a3f1a1",
   "metadata": {},
   "outputs": [],
   "source": [
    "df['WorkLifeBalance'].value_counts()"
   ]
  },
  {
   "cell_type": "code",
   "execution_count": null,
   "id": "646ae663",
   "metadata": {},
   "outputs": [],
   "source": [
    "mplt.figure(figsize=(40,30))\n",
    "(pd.crosstab(df['WorkLifeBalance'],df['Attrition'],normalize='index')*100).plot(kind='bar')"
   ]
  },
  {
   "cell_type": "markdown",
   "id": "4d433e1f",
   "metadata": {},
   "source": [
    "#### 1 and 4"
   ]
  },
  {
   "cell_type": "markdown",
   "id": "8b1a7b19",
   "metadata": {},
   "source": [
    "### 31. YearsAtCompany"
   ]
  },
  {
   "cell_type": "code",
   "execution_count": null,
   "id": "b9c29cb8",
   "metadata": {},
   "outputs": [],
   "source": [
    "df['YearsAtCompany'].value_counts()"
   ]
  },
  {
   "cell_type": "code",
   "execution_count": null,
   "id": "a95545e7",
   "metadata": {},
   "outputs": [],
   "source": [
    "mplt.figure(figsize=(40,30))\n",
    "(pd.crosstab(df['YearsAtCompany'],df['Attrition'],normalize='index')*100).plot(kind='bar')"
   ]
  },
  {
   "cell_type": "markdown",
   "id": "48e262fa",
   "metadata": {},
   "source": [
    "### 32. YearsInCurrentRole"
   ]
  },
  {
   "cell_type": "code",
   "execution_count": null,
   "id": "4a46b87e",
   "metadata": {},
   "outputs": [],
   "source": [
    "df['YearsInCurrentRole'].value_counts()"
   ]
  },
  {
   "cell_type": "code",
   "execution_count": null,
   "id": "81e09995",
   "metadata": {},
   "outputs": [],
   "source": [
    "sns.boxplot(df['YearsInCurrentRole'])"
   ]
  },
  {
   "cell_type": "code",
   "execution_count": null,
   "id": "82fad23b",
   "metadata": {},
   "outputs": [],
   "source": [
    "df[df['YearsInCurrentRole']>13].shape"
   ]
  },
  {
   "cell_type": "code",
   "execution_count": null,
   "id": "78211cd5",
   "metadata": {},
   "outputs": [],
   "source": [
    "df['YearsInCurrentRole']=np.where(df['YearsInCurrentRole']>13,df['YearsInCurrentRole'].mean(),df['YearsInCurrentRole'])"
   ]
  },
  {
   "cell_type": "code",
   "execution_count": null,
   "id": "1e7a700b",
   "metadata": {},
   "outputs": [],
   "source": [
    "sns.boxplot(df['YearsInCurrentRole'])"
   ]
  },
  {
   "cell_type": "markdown",
   "id": "193faa61",
   "metadata": {},
   "source": [
    "### 33. YearsSinceLastPromotion"
   ]
  },
  {
   "cell_type": "code",
   "execution_count": null,
   "id": "b586c727",
   "metadata": {},
   "outputs": [],
   "source": [
    "df['YearsSinceLastPromotion'].value_counts()"
   ]
  },
  {
   "cell_type": "code",
   "execution_count": null,
   "id": "79e6ce9b",
   "metadata": {},
   "outputs": [],
   "source": [
    "mplt.figure(figsize=(40,30))\n",
    "(pd.crosstab(df['YearsSinceLastPromotion'],df['Attrition'],normalize='index')*100).plot(kind='bar')"
   ]
  },
  {
   "cell_type": "code",
   "execution_count": null,
   "id": "142f02aa",
   "metadata": {},
   "outputs": [],
   "source": [
    "sns.boxplot(df['YearsSinceLastPromotion'])"
   ]
  },
  {
   "cell_type": "code",
   "execution_count": null,
   "id": "e912d3dc",
   "metadata": {},
   "outputs": [],
   "source": [
    "df['YearsSinceLastPromotion']=np.where(df['YearsSinceLastPromotion']>6,df['YearsSinceLastPromotion'].mean(),df['YearsSinceLastPromotion'])"
   ]
  },
  {
   "cell_type": "code",
   "execution_count": null,
   "id": "aa78ab93",
   "metadata": {},
   "outputs": [],
   "source": [
    "sns.boxplot(df['YearsSinceLastPromotion'])"
   ]
  },
  {
   "cell_type": "markdown",
   "id": "9a765488",
   "metadata": {},
   "source": [
    "### 34. YearsWithCurrManager"
   ]
  },
  {
   "cell_type": "code",
   "execution_count": null,
   "id": "cfde33e6",
   "metadata": {},
   "outputs": [],
   "source": [
    "df['YearsWithCurrManager'].nunique()"
   ]
  },
  {
   "cell_type": "code",
   "execution_count": null,
   "id": "e2746782",
   "metadata": {
    "scrolled": true
   },
   "outputs": [],
   "source": [
    "df['YearsWithCurrManager'].value_counts()"
   ]
  },
  {
   "cell_type": "code",
   "execution_count": null,
   "id": "9ad0a658",
   "metadata": {},
   "outputs": [],
   "source": [
    "mplt.figure(figsize=(40,30))\n",
    "(pd.crosstab(df['YearsWithCurrManager'],df['Attrition'],normalize='index')*100).plot(kind='bar')"
   ]
  },
  {
   "cell_type": "code",
   "execution_count": null,
   "id": "4d12a20c",
   "metadata": {},
   "outputs": [],
   "source": [
    "sns.boxplot(df['YearsWithCurrManager'])"
   ]
  },
  {
   "cell_type": "code",
   "execution_count": null,
   "id": "166eb177",
   "metadata": {},
   "outputs": [],
   "source": [
    "df[df['YearsWithCurrManager']>13].shape"
   ]
  },
  {
   "cell_type": "code",
   "execution_count": null,
   "id": "6c635896",
   "metadata": {},
   "outputs": [],
   "source": [
    "df['YearsWithCurrManager']=np.where(df['YearsWithCurrManager']>13,df['YearsWithCurrManager'].mean(),df['YearsWithCurrManager'])"
   ]
  },
  {
   "cell_type": "code",
   "execution_count": null,
   "id": "1f3fc17d",
   "metadata": {},
   "outputs": [],
   "source": [
    "sns.boxplot(df['YearsWithCurrManager'])"
   ]
  },
  {
   "cell_type": "code",
   "execution_count": null,
   "id": "ef0c9b48",
   "metadata": {},
   "outputs": [],
   "source": [
    "sns.pairplot(df.iloc[::,0:5],hue='Attrition')"
   ]
  },
  {
   "cell_type": "code",
   "execution_count": null,
   "id": "b7db5fac",
   "metadata": {},
   "outputs": [],
   "source": [
    "df.iloc[::,0:5]"
   ]
  },
  {
   "cell_type": "code",
   "execution_count": null,
   "id": "e44b3025",
   "metadata": {},
   "outputs": [],
   "source": [
    "sns.pairplot(df,hue='Attrition')"
   ]
  },
  {
   "cell_type": "code",
   "execution_count": null,
   "id": "70df4e9f",
   "metadata": {},
   "outputs": [],
   "source": [
    "sns.pairplot(df.iloc[::,0:10],hue='Attrition')"
   ]
  },
  {
   "cell_type": "code",
   "execution_count": null,
   "id": "a553d3e4",
   "metadata": {},
   "outputs": [],
   "source": []
  },
  {
   "cell_type": "code",
   "execution_count": null,
   "id": "41290267",
   "metadata": {},
   "outputs": [],
   "source": []
  },
  {
   "cell_type": "code",
   "execution_count": null,
   "id": "8a39ecec",
   "metadata": {},
   "outputs": [],
   "source": []
  },
  {
   "cell_type": "code",
   "execution_count": null,
   "id": "bc1e1682",
   "metadata": {},
   "outputs": [],
   "source": []
  },
  {
   "cell_type": "code",
   "execution_count": null,
   "id": "9cad079b",
   "metadata": {},
   "outputs": [],
   "source": []
  },
  {
   "cell_type": "code",
   "execution_count": null,
   "id": "6af0726e",
   "metadata": {},
   "outputs": [],
   "source": []
  },
  {
   "cell_type": "code",
   "execution_count": null,
   "id": "55a237f1",
   "metadata": {},
   "outputs": [],
   "source": []
  },
  {
   "cell_type": "code",
   "execution_count": null,
   "id": "3883fe64",
   "metadata": {},
   "outputs": [],
   "source": []
  },
  {
   "cell_type": "code",
   "execution_count": null,
   "id": "d38863e3",
   "metadata": {},
   "outputs": [],
   "source": []
  }
 ],
 "metadata": {
  "kernelspec": {
   "display_name": "Python 3 (ipykernel)",
   "language": "python",
   "name": "python3"
  },
  "language_info": {
   "codemirror_mode": {
    "name": "ipython",
    "version": 3
   },
   "file_extension": ".py",
   "mimetype": "text/x-python",
   "name": "python",
   "nbconvert_exporter": "python",
   "pygments_lexer": "ipython3",
   "version": "3.10.7"
  }
 },
 "nbformat": 4,
 "nbformat_minor": 5
}
